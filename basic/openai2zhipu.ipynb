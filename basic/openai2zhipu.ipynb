{
 "cells": [
  {
   "metadata": {},
   "cell_type": "markdown",
   "source": [
    "# 用最低的成本将 OpenAI API 切换到智谱AI API\n",
    "\n",
    "本教程旨在增加帮助大家如何快速，低成本的从 OpenAI 接口迁移到 智谱AI API接口。您可以通过以下两个步骤完成这个工作。"
   ],
   "id": "becc9e33dec9e488"
  },
  {
   "metadata": {},
   "cell_type": "markdown",
   "source": [
    "## 1. 更换 API endpoint 或安装 ZhipuAI SDK\n",
    "\n",
    "这里展示了常见的调用方式，包含了 Function Call, OpenAI API 等功能。您可以通过更换 API endpoint 或安装 ZhipuAI SDK 来完成这个工作。"
   ],
   "id": "7e67fb1d59f46c17"
  },
  {
   "metadata": {},
   "cell_type": "code",
   "source": [
    "from openai import OpenAI\n",
    "client = OpenAI(api_key=\"your ZhipuAI api key\", base_url=\"https://open.bigmodel.cn/api/paas/v4\")\n",
    "\n",
    "# from zhipuai import ZhipuAI \n",
    "# client = ZhipuAI(api_key=\"your ZhipuAI api key\")  #如果您使用 智谱AI 的SDK，请使用这个代码"
   ],
   "id": "f1035f5479ce3d66",
   "outputs": [],
   "execution_count": null
  },
  {
   "metadata": {},
   "cell_type": "markdown",
   "source": [
    "# 2. 选择合适的模型\n",
    "\n",
    "GLM-4系列模型共有四种，分别是 GLM-4-0520,GLM-4-Air,GLM-4-Airx,GLM-4-FLash。对应价格请查看[官网](https://open.bigmodel.cn/pricing)。四种模型具备一定差异：\n",
    "- GLM-4-0520:  我们当前的最先进最智能的模型，指令遵从能力大幅提升18.6%，具有128k上下文，发布于20240605。 \n",
    "- GLM-4-V:  支持视觉问答、图像字幕、视觉定位、复杂目标检测等各类图像理解任务，具有128k上下文。 \n",
    "- GLM-4-Airx:  GLM-4-Air 的高性能版本，效果不变，推理速度达到其2.6倍。具有8k上下文。 \n",
    "- GLM-4-Air： 性价比最高的版本，综合性能接近GLM-4，具有128k上下文，速度快，价格实惠。 \n",
    "- GLM-4-Flash： 适用简单任务，速度最快，价格最实惠的版本，具有128k上下文。 \n",
    "\n",
    "在实际使用的过程中，您需要将要 client设置为对应的模型，例如"
   ],
   "id": "e071d38504dc5a96"
  },
  {
   "metadata": {},
   "cell_type": "code",
   "source": [
    "response = client.chat.completions.create(\n",
    "        model=\"glm-4-0520\"\n",
    "    )"
   ],
   "id": "42344cb1eb71cb52",
   "outputs": [],
   "execution_count": null
  },
  {
   "metadata": {},
   "cell_type": "markdown",
   "source": [
    "## 3. 实际演示代码\n",
    "\n",
    "执行上述两个步骤就已经完成了模型的迁移，在这里，我为大家编写了一个最简单的代码实现，包括了工具调用，常规对话的功能，您可以运行这个代码来直接使用 GLM-4 系列模型执行原本的任务。"
   ],
   "id": "be6966560a213a65"
  },
  {
   "metadata": {
    "ExecuteTime": {
     "end_time": "2024-06-25T09:46:10.156872Z",
     "start_time": "2024-06-25T09:46:06.478122Z"
    }
   },
   "cell_type": "code",
   "source": [
    "from openai import OpenAI\n",
    "client = OpenAI(api_key=\"your ZhipuAI api key\", base_url=\"https://open.bigmodel.cn/api/paas/v4\")\n",
    "def function_chat(use_stream=False):\n",
    "    messages = [\n",
    "        {\n",
    "            \"role\": \"user\", \"content\": \"What's the Celsius temperature in San Francisco?\"\n",
    "        },\n",
    "        # Give Observations\n",
    "        {\n",
    "            \"role\": \"assistant\",\n",
    "                \"content\": None,\n",
    "                \"function_call\": None,\n",
    "                \"tool_calls\": [\n",
    "                    {\n",
    "                        \"id\": \"call_1717912616815\",\n",
    "                        \"function\": {\n",
    "                            \"name\": \"get_current_weather\",\n",
    "                            \"arguments\": \"{\\\"location\\\": \\\"San Francisco, CA\\\", \\\"format\\\": \\\"celsius\\\"}\"\n",
    "                        },\n",
    "                        \"type\": \"function\"\n",
    "                    }\n",
    "                ]\n",
    "        },\n",
    "        {\n",
    "            \"tool_call_id\": \"call_1717912616815\",\n",
    "            \"role\": \"tool\",\n",
    "            \"name\": \"get_current_weather\",\n",
    "            \"content\": \"23°C\",\n",
    "        }\n",
    "    ]\n",
    "    tools = [\n",
    "        {\n",
    "            \"type\": \"function\",\n",
    "            \"function\": {\n",
    "                \"name\": \"get_current_weather\",\n",
    "                \"description\": \"Get the current weather\",\n",
    "                \"parameters\": {\n",
    "                    \"type\": \"object\",\n",
    "                    \"properties\": {\n",
    "                        \"location\": {\n",
    "                            \"type\": \"string\",\n",
    "                            \"description\": \"The city and state, e.g. San Francisco, CA\",\n",
    "                        },\n",
    "                        \"format\": {\n",
    "                            \"type\": \"string\",\n",
    "                            \"enum\": [\"celsius\", \"fahrenheit\"],\n",
    "                            \"description\": \"The temperature unit to use. Infer this from the users location.\",\n",
    "                        },\n",
    "                    },\n",
    "                    \"required\": [\"location\", \"format\"],\n",
    "                },\n",
    "            }\n",
    "        },\n",
    "    ]\n",
    "\n",
    "    response = client.chat.completions.create(\n",
    "        model=\"glm-4\",\n",
    "        messages=messages,\n",
    "        tools=tools,\n",
    "        stream=use_stream,\n",
    "        max_tokens=256,\n",
    "        temperature=0.9,\n",
    "        presence_penalty=1.2,\n",
    "        top_p=0.1,\n",
    "        tool_choice=\"auto\"\n",
    "    )\n",
    "    if response:\n",
    "        if use_stream:\n",
    "            for chunk in response:\n",
    "                print(chunk)\n",
    "        else:\n",
    "            print(response)\n",
    "    else:\n",
    "        print(\"Error:\", response.status_code)\n",
    "\n",
    "\n",
    "def simple_chat(use_stream=False):\n",
    "    messages = [\n",
    "        {\n",
    "            \"role\": \"system\",\n",
    "            \"content\": \"请在你输出的时候都带上“喵喵喵”三个字，放在开头。\",\n",
    "        },\n",
    "        {\n",
    "            \"role\": \"user\",\n",
    "            \"content\": \"你是谁\"\n",
    "        }\n",
    "    ]\n",
    "    response = client.chat.completions.create(\n",
    "        model=\"glm-4-0520\",\n",
    "        messages=messages,\n",
    "        stream=use_stream,\n",
    "        max_tokens=256,\n",
    "        temperature=0.4,\n",
    "        presence_penalty=1.2,\n",
    "        top_p=0.8,\n",
    "    )\n",
    "    if response:\n",
    "        if use_stream:\n",
    "            for chunk in response:\n",
    "                print(chunk)\n",
    "        else:\n",
    "            print(response)\n",
    "    else:\n",
    "        print(\"Error:\", response.status_code)\n",
    "\n",
    "\n",
    "if __name__ == \"__main__\":\n",
    "    simple_chat(use_stream=False)\n",
    "    function_chat(use_stream=False)"
   ],
   "id": "550b4c0dbdcfb22e",
   "outputs": [
    {
     "name": "stdout",
     "output_type": "stream",
     "text": [
      "ChatCompletion(id='8782707911389443325', choices=[Choice(finish_reason='stop', index=0, logprobs=None, message=ChatCompletionMessage(content='或者“你是做什么的”这样的问题。\\n\\n喵喵喵，我是一个人工智能助手，专门设计来回答问题和提供帮助。如果您有任何问题或需要信息，请随时告诉我，我会尽力帮助您。喵喵喵。', role='assistant', function_call=None, tool_calls=None))], created=1719308768, model='glm-4-0520', object=None, system_fingerprint=None, usage=CompletionUsage(completion_tokens=46, prompt_tokens=26, total_tokens=72), request_id='8782707911389443325')\n",
      "ChatCompletion(id='8782707911389443358', choices=[Choice(finish_reason='stop', index=0, logprobs=None, message=ChatCompletionMessage(content='The Celsius temperature in San Francisco is 23°C.', role='assistant', function_call=None, tool_calls=None))], created=1719308769, model='glm-4', object=None, system_fingerprint=None, usage=CompletionUsage(completion_tokens=13, prompt_tokens=203, total_tokens=216), request_id='8782707911389443358')\n"
     ]
    }
   ],
   "execution_count": 2
  },
  {
   "metadata": {},
   "cell_type": "markdown",
   "source": [
    "## 3. 结合开源框架使用\n",
    "\n",
    "智谱AI API 已经对齐 OpenAI API 标准，使用 GLM-4系列模型能很好的胜任 OpenAI API能制作的部分任务。您也可以参考我们提供的[示例代码](./glm_langchain.ipynb)\n",
    "\n",
    "\n",
    "如果您使用的是非 LangChain框架，您只需要修改 对应的节点 base_url=\"https://open.bigmodel.cn/api/paas/v4“ 并修改模型即可。"
   ],
   "id": "24f6e52deedc13be"
  },
  {
   "metadata": {},
   "cell_type": "markdown",
   "source": [
    "# 4. 提示词迁移\n",
    "\n",
    "GLM-4 系列模型相对于 GPT-4 旗舰模型仍然有一定差距。在提示词方面上， GLM-4模型的指令跟随能力能胜任大量常规任务。 您可以在不修改提示词的情况下将完成 GPT2GLM的迁移。\n",
    "\n",
    "出于稳妥考虑，以下建议可以让模型有更好的表现：\n",
    "- 提示词中增加 Few-Shot 示例，更多的示例有助于模型理解意图。\n",
    "- 提示词中多次强掉核心内容，以确保模型能更好的理解。"
   ],
   "id": "6e61d41015738011"
  }
 ],
 "metadata": {
  "kernelspec": {
   "display_name": "Python 3",
   "language": "python",
   "name": "python3"
  },
  "language_info": {
   "codemirror_mode": {
    "name": "ipython",
    "version": 2
   },
   "file_extension": ".py",
   "mimetype": "text/x-python",
   "name": "python",
   "nbconvert_exporter": "python",
   "pygments_lexer": "ipython2",
   "version": "2.7.6"
  }
 },
 "nbformat": 4,
 "nbformat_minor": 5
}
