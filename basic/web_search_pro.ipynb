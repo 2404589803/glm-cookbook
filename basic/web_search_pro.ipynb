{
 "cells": [
  {
   "cell_type": "markdown",
   "metadata": {},
   "source": [
    "# Enhancing Search Engine Power with Web-Search-Pro\n",
    "\n",
    "**This tutorial is available in English and is attached below the Chinese explanation**\n",
    "\n",
    "**Web-Search-Pro** 是一个专业版联网搜索工具，它适用于需要高精度搜索和实时信息流的应用场景，可以更高效地获取信息，并在实际应用中实现更加智能的搜索功能。在本教程中，我们将使用 Web-Search-Pro 工具来进行一次高精度的搜索，具体示例是查询 2024 暑期档值得一看的电影。我们将调用 Web-Search-Pro API，并将搜索结果格式化为易于阅读的格式。\n",
    "\n",
    "**Web-Search-Pro** is a professional version of a networked search tool, which is especially suitable for application scenarios that require high-precision search and real-time information streaming to obtain information more efficiently, and realize smarter search functionality in real applications. In this tutorial, we will use the Web-Search-Pro tool to perform a high-precision search, the specific example is to find 2024 summer movies that are worth watching? We will call the Web-Search-Pro API and format the search results into an easy-to-read format."
   ]
  },
  {
   "cell_type": "markdown",
   "metadata": {},
   "source": [
    "## 为什么要用Web-Search-Pro？\n",
    "\n",
    "很多时候，使用模型进行问答不能够得到有用的信息，例如我们想要找一部2024年暑期档的电影来看，GLM-4 模型的回答建议我们关注相关渠道，这种回答虽然有帮助，但缺乏实时性和针对性。\n",
    "\n",
    "Often times, using the model for Q&A does not yield useful information. For example, if we want to find a movie to watch in the summer of 2024, the completion from the GLM-4 model suggests that we follow related channels for information, a response that, while helpful, lacks real-time relevance and targeting."
   ]
  },
  {
   "cell_type": "code",
   "execution_count": 1,
   "metadata": {},
   "outputs": [
    {
     "name": "stdout",
     "output_type": "stream",
     "text": [
      "截至我知识更新的时间点（2023年4月），关于2024年暑期档的电影信息可能还没有完全公布。暑期档通常是指每年6月至8月期间上映的电影，这一时间段是全球电影市场的重要档期，许多大片会选择在这个时期上映。\n",
      "\n",
      "要了解2024年暑期档的值得一看的电影，建议关注以下几个方面获取信息：\n",
      "\n",
      "1. 电影预告片：预告片通常会在电影上映前数月发布，通过观看预告片可以初步了解电影的题材和风格。\n",
      "2. 电影资讯网站：如时光网、豆瓣电影等网站会提供即将上映的电影信息，包括暑期档电影的档期安排。\n",
      "3. 社交媒体：关注电影制作公司、导演、演员的社交媒体账号，他们会发布即将上映的电影信息。\n",
      "4. 电影评论与口碑：上映前的影评和观众口碑也是选择电影的重要参考。\n",
      "\n",
      "由于我无法提供具体的2024年暑期电影名单，建议在靠近那个时期时，通过以上方式来获得最新、最准确的电影信息。如果您对特定类型的电影感兴趣，比如科幻、动作、喜剧等，也可以告诉我，我会尽量提供一些可能的趋势或预期。\n"
     ]
    }
   ],
   "source": [
    "import os\n",
    "from zhipuai import ZhipuAI\n",
    "\n",
    "os.environ[\"ZHIPUAI_API_KEY\"] = \"your api key\"\n",
    "client = ZhipuAI()\n",
    "\n",
    "response = client.chat.completions.create(\n",
    "    model=\"glm-4\",\n",
    "    messages=[\n",
    "        {\n",
    "            \"role\": \"user\",\n",
    "            \"content\": \"2024暑期档有什么值得一看的电影？\"\n",
    "        }\n",
    "    ],\n",
    ")\n",
    "\n",
    "print(response.choices[0].message.content)"
   ]
  },
  {
   "cell_type": "markdown",
   "metadata": {},
   "source": [
    "## 1. Set up the Environment\n",
    "\n",
    "首先，导入必要的库并设置 API 密钥。其中，requests 用于发出 HTTP 请求，uuid 为每次 API 调用生成唯一的 request_id。\n",
    "\n",
    "First, import the necessary libraries and set up our API key. requests is used to make HTTP requests and uuid generates a unique request_id for each API call.\n",
    "\n"
   ]
  },
  {
   "cell_type": "code",
   "execution_count": 2,
   "metadata": {},
   "outputs": [],
   "source": [
    "import requests\n",
    "import uuid\n",
    "import json\n",
    "\n",
    "api_key = \"your api key\"\n"
   ]
  },
  {
   "cell_type": "markdown",
   "metadata": {},
   "source": [
    "## 2. Make the API Request\n",
    "\n",
    "这个函数向特定端点发出 API 请求并打印响应。定义工具和 url 后，我们将其与使用 uuid 模块生成的唯一 request_id 一起放入字典。接下来，我们向 API 的 URL 发出 POST 请求，并以 JSON 有效负载的形式发送数据。\n",
    "\n",
    "This function makes an API request to a specific endpoint and prints the response. After defining the tool and url, we put it into a dictionary with a unique request_id generated using the uuid module. Next, we make a POST request to the API's URL and send the data as a JSON payload."
   ]
  },
  {
   "cell_type": "code",
   "execution_count": 3,
   "metadata": {},
   "outputs": [],
   "source": [
    "def web_search(query):\n",
    "\n",
    "    tool = \"web-search-pro\"\n",
    "    url = \"https://open.bigmodel.cn/api/paas/v4/tools\"\n",
    "    \n",
    "    request_id = str(uuid.uuid4())\n",
    "    \n",
    "    data = {\n",
    "        \"request_id\": request_id,\n",
    "        \"tool\": tool,\n",
    "        \"stream\": False,\n",
    "        \"messages\": [\n",
    "            {\n",
    "                \"role\": \"user\",\n",
    "                \"content\": query\n",
    "            }\n",
    "        ]\n",
    "    }\n",
    "\n",
    "    response = requests.post(\n",
    "            url,\n",
    "            json=data,\n",
    "            headers={'Authorization': api_key},\n",
    "            timeout=300\n",
    "        )\n",
    "    return response"
   ]
  },
  {
   "cell_type": "markdown",
   "metadata": {},
   "source": [
    "## 3. Print the Results\n",
    "\n",
    "收到 API 的响应后，我们将有用信息提取出来，即每条搜索结果的题目、链接、和内容。这样，我们就可以看到多条相关搜索内容，从而选择合适的内容去选用。\n",
    "\n",
    "After receiving the response from the API, we extract the useful information, i.e. the title, link, and content of each search result. In this way, we can see multiple related searches so that we can choose the right content to go with."
   ]
  },
  {
   "cell_type": "code",
   "execution_count": 4,
   "metadata": {},
   "outputs": [],
   "source": [
    "def print_results(response):\n",
    "    resp_content = response.content.decode('utf-8')\n",
    "    response_json = json.loads(resp_content)\n",
    "    print(\"Search Results: \")\n",
    "    \n",
    "    for result in response_json[\"choices\"][0][\"message\"][\"tool_calls\"][1][\"search_result\"]:\n",
    "        print(result[\"refer\"])\n",
    "        print(\"Title: \" + result[\"title\"])\n",
    "        print(\"Link: \" + result[\"link\"])\n",
    "        print(\"Content: \" + result[\"content\"])\n",
    "        print()"
   ]
  },
  {
   "cell_type": "markdown",
   "metadata": {},
   "source": [
    "## 4. Perform the Web Search\n",
    "\n",
    "输入 “2024暑期档有什么值得一看的电影？”这一查询，就能以易于阅读的格式获得搜索结果。\n",
    "\n",
    "Input our query asking for movies to watch in the cinema for summer 2024, and get the search results in a easy-to-read format."
   ]
  },
  {
   "cell_type": "code",
   "execution_count": 5,
   "metadata": {},
   "outputs": [
    {
     "name": "stdout",
     "output_type": "stream",
     "text": [
      "Searching for: 2024暑期档有什么值得一看的电影？\n",
      "\n",
      "Search Results: \n",
      "ref_1\n",
      "Title: 2024暑期最佳的五部电影，一部比一部精彩，你是一部没看太遗憾！（发布时间：2024-08-20 07:30:00）\n",
      "Link: https://www.sohu.com/a/802044170_99969801\n",
      "Content: 以下是关于2024暑期五佳电影的摘要总结：本季度暑期推出了五部值得一看的电影。首先是《逆行人生》，由徐峥、辛芷蕾和王骁主演，获得了6.8分。电影虽受到行业竞争的影响，但依旧展示出社会的正能量和对未来的希望。其次，《白蛇：浮生》以7.1分的成绩吸引了观众，由张喆、杨天翔和唐小喜配音。电影基于中国传统的白蛇传说，改编流畅，风土人情的表现手法受到称赞。第三部影片为《负负得正》，由朱一龙、邱天、蒋奇明出演，评分为7.0分。该片是一部爱情题材的作品，探讨了个人成长与情感共鸣。第四部推荐是《抓娃娃》，主演沈腾和马丽，该片以7.4分的成绩赢得观众点赞，被认为是最具质量的喜剧作品之一。最后，《从21世纪安全撤离》以7.6分位列第五，由张若昀、钟楚曦和宋洋主演。电影映射了特定时代的情感和对成长的回忆。以上就是这五部电影的中立概述，希望对大家选择观影有所参考。\n",
      "\n",
      "ref_2\n",
      "Title: 2024暑期档票房超110亿 《抓娃娃》《默杀》领跑（发布时间：2024-08-26 00:34:45）\n",
      "Link: https://www.gamersky.com/news/202408/1806721.shtml\n",
      "Content: 2024年暑期档电影总票房（含预售）已经超过了110亿元。《抓娃娃》和《默杀》成为票房的领跑者，排名前三的还包括《云边有个小卖部》。此外，《重生》等新片已经上映。近期，影院还将上映《异形：夺命舰》、《姥姥的外孙》、《刺猬》、《金陵御猫》等多部新片，以及备受期待的《只此青绿》也会陆续与观众见面，为观众提供更多观影选择。\n",
      "\n",
      "ref_3\n",
      "Title: 已突破110亿元票房云边（发布时间：2024-08-24 23:57:00）\n",
      "Link: https://www.sohu.com/a/803412143_121860344\n",
      "Content: 根据网络平台实时数据，2024年暑期档电影总票房（含预售）已经超过了110亿元。目前，票房前三的电影分别是《抓娃娃》、《默杀》和《云边有个小卖部》。此外，新片《异形：夺命舰》、《姥姥的外孙》、《刺猬》和《重生》已经上映，而《金陵御猫》和《只此青绿》也将陆续上映。来源为央视新闻。\n",
      "\n",
      "ref_4\n",
      "Title: 2024年暑期档电影票房破110亿 《抓娃娃》位列第一（发布时间：2024-08-25 14:05:00）\n",
      "Link: https://www.sohu.com/a/803516465_114941\n",
      "Content: 搜狐娱乐讯 据网络平台实时数据，2024年暑期档电影总票房（含预售）已突破110亿元。目前，《抓娃娃》《默杀》《云边有个小卖部》位列票房前三。\n",
      "另外《异形：夺命舰》《姥姥的外孙》《刺猬》《重生》等新片登陆，《金陵御猫》《只此青绿》等也将陆续上映。返回搜狐，查看更多\n",
      "责任编辑：\n",
      "\n",
      "ref_5\n",
      "Title: 暑期档电影票房突破110亿 多部新片接力上映（发布时间：2024-08-25 13:38:29）\n",
      "Link: https://news.china.com/socialgd/10000169/20240825/47096696.html\n",
      "Content: 截至8月24日22时45分，2024年暑期档电影票房总收入已超过110亿元，涵盖6月至8月。票房前五名的电影是《抓娃娃》、《默杀》、《云边有个小卖部》、《异形：夺命舰》和《死侍与金刚狼》。近期，影院将上映新片《重生》、《金陵御猫》，以及备受期待的《只此青绿》。\n",
      "\n",
      "ref_6\n",
      "Title: 《姥姥的外孙》：“全职乖孙”，让人哭到稀碎（发布时间：2024-08-26 14:55:34）\n",
      "Link: http://mini.eastday.com/nsa/n240826145527924.html\n",
      "Content: 《姥姥的外孙》是一部泰国电影，于2024年8月26日在中国内地上映，获得了豆瓣9.0的高分的高评价，成为暑期档口碑最佳的电影，也是年度院线片口碑最高的一部。这部电影在泰国本土及马来西亚都取得了票房的成功，并在内地的首周末票房突破了三千万人民币，预测总票房将达到一亿。近年来，泰国电影通过专注中小体量制作，精耕细作，成功在竞争激烈的电影市场中找到自己的定位。\n",
      "\n",
      "ref_7\n",
      "Title: 《异形：夺命舰》进入2024暑期档票房榜前三（发布时间：2024-08-25 15:13:24）\n",
      "Link: https://www.163.com/dy/article/JAEQG5S70534A4SC.html\n",
      "Content: 据猫眼专业版数据，电影《异形：夺命舰》上映第10日，总票房突破5亿，超《云边有个小卖部》票房成绩，进入2024年暑期档票房榜前三。\n",
      "\n",
      "ref_8\n",
      "Title: 暑期档动画电影热度最高 纪录电影用数字还原历史真相（发布时间：2024-08-26 07:25:00）\n",
      "Link: https://www.sohu.com/a/803627763_162758\n",
      "Content: 截至24日22时45分，2024年电影暑期档总票房已突破110亿。暑期档期间，动画电影热度持续高位，其中包括中国与西班牙合拍的动画电影《守龙者》及动画电影《金陵御猫》。《守龙者》基于澳大利亚儿童作家卡罗尔·威尔金森的同名小说改编，融入了中华传统文化元素。《金陵御猫》则改编了狸猫换太子”的故事，融入悬疑、动作等元素。此外，纪录电影《里斯本丸沉没》在浙江舟山东极岛进行了首映，影片讲述了1942年里斯本丸”号英军战俘船在中国浙江舟山海域被美军潜艇误炸沉没，中国渔民勇敢救人的历史故事。影片通过采访当事人及相关后人，深入展现了这一事件始末，旨在抢救和传播历史。观众在观看后对此事件有了更深刻的感受。\n",
      "\n",
      "ref_9\n",
      "Title: 太空惊悚电影《异形：夺命舰》票房超 5.27 亿元，成为内地恐怖片票房冠军（发布时间：2024-08-26 11:52:53）\n",
      "Link: https://finance.sina.com.cn/tech/digi/2024-08-26/doc-inckxtzp5099646.shtml\n",
      "Content: 太空惊悚电影《异形：夺命舰》票房突破5.27亿元，成为中国内地恐怖片票房冠军。该片由20世纪影业出品，于8月16日在中国内地上映，当前豆瓣评分为7.5。影片由雷德利·斯科特担任制片人，费德·阿尔瓦雷执导，讲述了一群年轻太空殖民者在废弃太空站遭遇异形的惊悚故事。该片的票房表现也使其进入2024暑期档票房前三。\n",
      "\n",
      "ref_10\n",
      "Title: 暑期档高分国产片将组团“出海”（发布时间：2024-08-25 21:33:39）\n",
      "Link: http://mini.eastday.com/nsa/n240825213326436.html\n",
      "Content: 截止至8月24日22时45分，2024年暑期档（6-8月）的中国电影总票房（包括预售）已经超过了110亿元。排名票房前三位的是《抓娃娃》、《默杀》和《云边有个小卖部》。同时，新片《异形：夺命舰》、《姥姥的外孙》、《刺猬》和《重生》等已经上映，而《金陵御猫》和《只此青绿》等也将陆续上映。数据分析专家指出，今年的暑期档电影在数量上较为充足，类型也更为多元化，满足了各类观众的需求，其中，喜剧片的票房表现尤为突出，远超2023年暑期档，达到了自2018年以来暑期档喜剧类型的最高票房。\n",
      "\n"
     ]
    }
   ],
   "source": [
    "if __name__ == '__main__':\n",
    "    query = \"2024暑期档有什么值得一看的电影？\"\n",
    "    \n",
    "    print(f\"Searching for: {query}\\n\")\n",
    "\n",
    "    response = web_search(query)\n",
    "    print_results(response)"
   ]
  }
 ],
 "metadata": {
  "kernelspec": {
   "display_name": "Python 3",
   "language": "python",
   "name": "python3"
  },
  "language_info": {
   "codemirror_mode": {
    "name": "ipython",
    "version": 3
   },
   "file_extension": ".py",
   "mimetype": "text/x-python",
   "name": "python",
   "nbconvert_exporter": "python",
   "pygments_lexer": "ipython3",
   "version": "3.11.4"
  }
 },
 "nbformat": 4,
 "nbformat_minor": 2
}
