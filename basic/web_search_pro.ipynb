{
 "cells": [
  {
   "cell_type": "markdown",
   "metadata": {},
   "source": [
    "# Enhancing Search Engine Power with Web-Search-Pro\n",
    "\n",
    "**This tutorial is available in English and is attached below the Chinese explanation**\n",
    "\n",
    "**Web-Search-Pro** 是一个专业版联网搜索工具，设计用于在传统搜索引擎的基础上，提供更强大的功能。它不仅继承了网页抓取和排序的核心能力，还在意图识别方面进行了显著增强，支持流式输出的搜索结果。这个工具特别适用于需要高精度搜索和实时信息流的应用场景。通过它，你可以更高效地获取信息，改进大语言模型的表现，并在实际应用中实现更加智能的搜索功能。"
   ]
  },
  {
   "cell_type": "markdown",
   "metadata": {},
   "source": [
    "## 1. Set up the Environment\n",
    "\n",
    "首先，导入必要的库并设置 API 密钥。其中，requests 用于发出 HTTP 请求，uuid 为每次 API 调用生成唯一的 request_id。\n",
    "\n",
    "First, import the necessary libraries and set up our API key. requests is used to make HTTP requests and uuid generates a unique request_id for each API call.\n",
    "\n"
   ]
  },
  {
   "cell_type": "code",
   "execution_count": 1,
   "metadata": {},
   "outputs": [],
   "source": [
    "import requests\n",
    "import uuid\n",
    "\n",
    "# Replace with your actual API key\n",
    "api_key = \"your api key\""
   ]
  },
  {
   "cell_type": "markdown",
   "metadata": {},
   "source": [
    "## 2. Define the Function that makes the API Request\n",
    "\n",
    "这个函数向特定端点发出 API 请求并打印响应。定义信息 (msg) 后，我们将其与使用 uuid 模块生成的唯一 request_id 一起放入字典。然后，我们将 “web-search-pro ”设置为工具，并包含 API 密钥和请求头以进行授权。接下来，我们向 API 的 URL 发出 POST 请求，并以 JSON 有效负载的形式发送数据。收到响应后，我们解码并打印内容，让用户看到 API 的输出。\n",
    "\n",
    "This function makes an API request to a specific endpoint and print the response. After defining a message (msg), we include it a dictionary along with a unique request_id generated using the uuid module. Then, we set \"web-search-pro\" as a tool and include the API key and request headers for authorization. Next, we make the POST request to the API's URL and send the data as a JSON payload. After receiving the response, we decode and print the content, allowing the user to see the API's output. "
   ]
  },
  {
   "cell_type": "code",
   "execution_count": 2,
   "metadata": {},
   "outputs": [],
   "source": [
    "def run_v4_sync():\n",
    "    msg = [\n",
    "        {\n",
    "            \"role\": \"user\",\n",
    "            \"content\": \"最近有哪些新上映的电影？\"\n",
    "        }\n",
    "    ]\n",
    "    tool = \"web-search-pro\"\n",
    "    url = \"https://open.bigmodel.cn/api/paas/v4/tools\"\n",
    "    request_id = str(uuid.uuid4())\n",
    "    data = {\n",
    "        \"request_id\": request_id,\n",
    "        \"tool\": tool,\n",
    "        \"stream\": False,\n",
    "        \"messages\": msg\n",
    "    }\n",
    "\n",
    "    resp = requests.post(\n",
    "        url,\n",
    "        json=data,\n",
    "        headers={'Authorization': api_key},\n",
    "        timeout=300\n",
    "    )\n",
    "    \n",
    "    print(resp.content.decode())\n",
    "\n"
   ]
  },
  {
   "cell_type": "markdown",
   "metadata": {},
   "source": [
    "## 3. Make the API request\n",
    "\n",
    "最后，我们将调用主代码块中的函数来执行请求。在响应中的 choices->message->tool_calls->search_result 中可以看到每个搜索结果的内容，回答在content中。\n",
    "\n",
    "Finally, we'll call the function in the main block to execute the request. The content of each search result can be seen in choices->message->tool_calls->search_result in the response, with the answer in content."
   ]
  },
  {
   "cell_type": "code",
   "execution_count": 3,
   "metadata": {},
   "outputs": [
    {
     "name": "stdout",
     "output_type": "stream",
     "text": [
      "{\"choices\":[{\"finish_reason\":\"stop\",\"index\":0,\"message\":{\"role\":\"tool\",\"tool_calls\":[{\"id\":\"c8c401b2bae7cec6\",\"search_intent\":[{\"category\":\"\",\"index\":0,\"intent\":\"SEARCH_ALL\",\"keywords\":\"最近 新上映 电影\",\"query\":\"最近有哪些新上映的电影？\"}],\"type\":\"search_intent\"},{\"id\":\"c8c401b2bae7cec6\",\"search_result\":[{\"content\":\"本周影音娱乐资讯如下：在电影方面，截至8月9日，《逆行人生》《抓娃娃》等占据票房前列，新上映的电影有《白蛇：浮生》和《负负得正》。暑期档新片不断，包括《重生》、《名侦探柯南：百万美元的五棱星》等。国庆档方面，《危机航线》、《出入平安》等电影已定档。电视剧方面，刑侦悬疑网剧《灭罪》开机，还有《九部的检察官》（沉默的代价）、《樱桃琥珀》等新剧动态。综艺方面，真人秀《披荆斩棘4》初舞台上线，还有《闪光的夏天》、《密室大逃脱6》等节目更新。\",\"icon\":\"https://sfile.chatglm.cn/searchImage/sohu_icon.jpg\",\"index\":0,\"link\":\"https://www.sohu.com/a/799666584_260616\",\"media\":\"搜狐新闻\",\"refer\":\"ref_1\",\"title\":\"七夕快乐！《白蛇：浮生》《负负得正》上映\"},{\"content\":\"这周，暑期档的电影市场变得非常热闹。几部新上映的电影，包括国产片和好莱坞大片，都获得了很高的关注度。例如，国产片《抓娃娃》由沈腾和马丽主演，还未正式上映时就已经累积了数亿的票房。好莱坞大片《龙卷风》在北美获得了79%的新鲜度和7.1分的评价，虽然剧情被认为有些老套，但是作为暑期档的超级大片，它还是合格的。另外，新海诚的《你的名字。》再次上映，之前在内地的票房表现很好。喜羊羊与灰太狼的大电影也出了第九部。豆瓣的一周口碑榜中也有一些新的影片上榜，比如《十字路口的猪》、《亲爱的格洛莉亚》、《旅行者的需求》等。这些电影在豆瓣上的评分都比较高，也获得了一定的关注度。总的来说，这一周的电影市场非常活跃，不论是院线电影还是口碑榜上的电影，都值得大家关注和探索。\",\"icon\":\"https://sfile.chatglm.cn/searchImage/163_icon.jpg\",\"index\":0,\"link\":\"https://www.163.com/dy/article/J74K2GNP051782QM.html\",\"media\":\"网易新闻\",\"refer\":\"ref_2\",\"title\":\"这周是真有猛片了\"},{\"content\":\"以下是8月份即将上映的几部影片的简介：1. 《从21世纪安全撤离》：这是一部由李阳执导，张若昀、钟楚曦、宋洋主演的喜剧科幻电影，讲述了三个少年如何在一个名为K星的未知星球上，面对世界毁灭的阴谋，成为英雄的故事。2. 《灌篮高手》：这部由井上雄彦导演的动画电影，将带领观众重温湘北篮球队在全国大赛上的精彩对决。3. 《解密》：陈思诚执导，刘昊然、约翰·库萨克、陈道明等出演的剧情历史片，讲述了20世纪40年代一名年轻数学家卷入密码破译工作的故事。4. 《校园神探》：这是一部专门为青少年制作的真人推理喜剧片，由林子烨、洪悦熙、裴佳欣等主演。5. 《逆行人生》：由徐峥执导并主演，讲述了中年男子在生活压力下迷失自我，随后如何重新找回人生方向的故事。6. 《白蛇：浮生》：这部动画爱情电影是知名IP“白蛇”的续作，讲述了许仙、小白和小青三人间的爱情与冒险。7. 《负负得正》：朱一龙与邱天主演的剧情爱情片，探讨了爱情中的勇气和自我成长。8. 《她的小梨涡》：改编自晋江文学城的同名IP，是一部关于少年时期爱情的电影。9. 《异形：夺命舰》：这部科幻恐怖片是《异形》系列的最新作品，讲述了一群太空殖民者与异形的遭遇。10. 《红楼梦之金玉良缘》：改编自经典文学作品《红楼梦》，重点展现了原著中的经典场景。11. 《航海王：强者天下》：这是《航海王》系列的第十部剧场版动画，将带领观众重温草帽团队的冒险故事。以上就是8月份部分即将上映的影片介绍。\",\"icon\":\"https://sfile.chatglm.cn/searchImage/163_icon.jpg\",\"index\":0,\"link\":\"https://www.163.com/dy/article/J8OBJ9AQ05528I7N.html?clickfrom=w_mv_music\",\"media\":\"网易新闻\",\"refer\":\"ref_3\",\"title\":\"8月新上映影片，你最期待哪部？\"},{\"content\":\"《殊死一搏》是一部新上映的电影，由香港导演叶伟民监制，安志杰、樊少皇主演。影片以一段全家灭门惨案为背景，讲述了主人公老陈为救女儿，与黑帮势力展开激烈斗争的故事。电影剧情紧凑，充满悬念，动作场面刺激，被形容为回到了动作片的黄金时代。片中有多场激烈的动作戏，展现了樊少皇和安志杰的硬汉风格。同时，电影还关注社会现实题材，对人物塑造有深度，不仅是一部简单的爽片。尽管是网络电影，但质量不输院线电影。\",\"icon\":\"https://sfile.chatglm.cn/searchImage/qq_icon.jpg\",\"index\":0,\"link\":\"https://new.qq.com/rain/a/20240805A05FVA00\",\"media\":\"腾讯新闻\",\"refer\":\"ref_4\",\"title\":\"尺度已达到B级片了，樊少皇这部新片，导演要多硬的关系，才让这片上映？\"},{\"content\":\"《今日影评》是央视网的一个节目，2024年7月24日的节目讨论了暑期档电影市场上新老电影竞争的现象。节目提到，暑期档期间不仅有新上映的电影，还有一些老电影选择在这个时候重新上映。节目中提到了包括《白蛇：缘起》、《你的名字。》和《灌篮高手》在内的多部影片在全国影院的重映。这个现象有助于丰富电影市场的多样性，给观众提供了更多选择的机会，从而使观众受益。\",\"icon\":\"https://sfile.chatglm.cn/searchImage/cctv_icon.jpg\",\"index\":0,\"link\":\"https://tv.cctv.com/2024/07/24/VIDEQv9zPyp3x6pgnW8BTMTA240724.shtml\",\"media\":\"央视网\",\"refer\":\"ref_5\",\"title\":\"《今日影评》 20240724 新老电影抢占市场，观众受益！\"},{\"content\":\"新上映的电影《殊死一搏》以其B级片尺度和激烈的动作场面获得了观众的广泛关注。该片由叶伟民监制，安志杰和樊少皇主演，以其剧情紧张、打斗场面精彩刺激，迅速 climb 爱奇艺飙升榜榜首。电影围绕格斗冠军林海崖的复仇故事展开，描绘了他与卧底警探阿灿联手对抗黑帮的惊险过程。影片中的动作戏设计充满层次感和暴力感，同时，电影还展现出对社会现实话题的关怀，呈现了人蛇工厂等犯罪场景的恐怖细节。\",\"icon\":\"https://sfile.chatglm.cn/searchImage/sohu_icon.jpg\",\"index\":0,\"link\":\"https://www.sohu.com/a/798690121_452431\",\"media\":\"搜狐新闻\",\"refer\":\"ref_6\",\"title\":\"“人间炼狱”真的被拍了出来，这部狠片，B级片尺度，只是开胃菜\"},{\"content\":\"《异形：夺命舰》在北美与中国内地市场同步上映，北美上映首日票房达到4150万美元，位列年度开画亚军，仅次于《普罗米修斯》。在中国内地，首周末票房达到1.87亿人民币，年度进口片开画排名第二。全球开画票房总计1.08亿美元。该片由乌拉圭导演费德·阿尔瓦雷兹执导，在CinemaScore获得B+评分，烂番茄新鲜度81%，爆米花指数87%。北美之外市场表现最好的是中国内地，预计票房可达7亿人民币。同时，《死侍与金刚狼》北美累计票房5.45亿美元，全球累计11.42亿美元，《爱情，到此为止》北美累计9778万美元。《龙卷风》、《鬼妈妈》、《陷阱》、《神偷奶爸4》和《头脑特工队2》等电影也均有不错的票房表现。本周新上映的电影包括《乌鸦》和《求救眨眨眼》。\",\"icon\":\"https://sfile.chatglm.cn/searchImage/sohu_icon.jpg\",\"index\":0,\"link\":\"https://www.sohu.com/a/802075145_120022\",\"media\":\"搜狐新闻\",\"refer\":\"ref_7\",\"title\":\"《异形夺命舰》北美大卖！中国内地进口片年度开画亚军\"},{\"content\":\"《从21世纪安全撤离》是一部新上映的电影，由张若昀主演，其在豆瓣开出7.7的评分，位于暑期档影片前列。尽管口碑评分不错，但票房表现却不尽如人意，上映首日票房未突破千万。此外，上映首日还出现了宣传上的笑话，孟子义方在宣传时将聊天对话内容错误地复制转发，引发笑料。电影以穿越为主题，讲述了主人公通过穿越改变人生的故事，尽管其形式新颖，包含了时代元素和情怀，但内核仍然围绕常见的青春成长和中年困境等议题，未能深入探讨，导致其票房和市场影响力受限。影片被认为是形式大于内容，尽管能提供观影快感，但未能形成现实话题性，因此被视为一个精彩的但能力有限的彩蛋。\",\"icon\":\"https://sfile.chatglm.cn/searchImage/163_icon.jpg\",\"index\":0,\"link\":\"https://www.163.com/dy/article/J8KCL4IJ0517LAAF.html\",\"media\":\"网易新闻\",\"refer\":\"ref_8\",\"title\":\"豆瓣开分7.7，《从21世纪安全撤离》上映首日却闹了一个笑话！\"},{\"content\":\"北美周末票房数据显示，8月16日至18日，共有33部电影上映，总票房约为1.36亿美元，较前一周末下降了约13%。新上映的《异形：夺命舰》首映后即成为北美单日票房冠军，并以约4150万美元的首映周末票房登顶票房排行榜。而《死侍与金刚狼》票房环比下跌46%，以约2900万美元排名第二，第三名则是由《爱情，到此为止》以约2400万美元的收入取得。\",\"icon\":\"https://sfile.chatglm.cn/searchImage/eastmoney_icon.jpg\",\"index\":0,\"link\":\"https://finance.eastmoney.com/a/202408193158869283.html\",\"media\":\"东方财富网\",\"refer\":\"ref_9\",\"title\":\"北美周末票房：《异形：夺命舰》首映夺冠\"},{\"content\":\"大家好，这里是本周的哈评大赏！上周末，沈腾和马丽主演的喜剧片《抓娃娃》持续领跑暑期档，累计票房已破23亿。新上映的电影中，漫威超级英雄电影《死侍与金刚狼》表现突出，全球开画票房高达4.38亿美元，成为北美影史R级片开画冠军。国风奇幻动作片《异人之下》凭借出色的视觉效果和强大的演员阵容，被誉为国漫改编代表作。热血日漫《蓝色禁区：凪》则聚焦于足球运动，也受到不少人的欢迎。最近有哪些新鲜出炉的高能热评呢？我们一起来看看吧！《异人之下》是一部充满东方神秘色彩的奇幻动作片，视觉呈现震撼，融合了中国传统文化元素，值得一看。《死侍与金刚狼》是一部动作喜剧电影，不仅探讨了英雄主义、牺牲和自我救赎的主题，还让观众感受到了两位主角之间的化学反应。《蓝色禁区：凪》则是一部体育励志佳作，讲述了天才足球少年凪的成长之路，制作精良，值得一看。以上就是本期的内容，喜欢请点个赞支持一下吧！\",\"icon\":\"https://sfile.chatglm.cn/searchImage/sohu_icon.jpg\",\"index\":0,\"link\":\"https://www.sohu.com/a/797042292_745022\",\"media\":\"搜狐新闻\",\"refer\":\"ref_10\",\"title\":\"燃炸！别错过这些暑期档重磅大片\"},{\"content\":\"王传君，张钧甯和吴镇宇主演的电影《默杀》将提前至7月3日上映，并发布了海报。海报展现了站在雨夜中的神秘黑衣人。这部由柯汶利导演和编剧的电影，还包括王圣迪，蔡明，金士杰，黄明昊和徐娇的特殊出演。《头脑特工队2》成为全球影史上最快破10亿票房的动画电影。在2024年第26周，全国电影周票房达到5.96亿，观影人次超过1465万，总场次超过270万场。全年累计电影票房达到239.1亿。《云边有个小卖部》连续7天获得单日冠军，累计票房达到3.61亿，成为6月票房冠军。《头脑特工队2》保持第二的位置，累计票房1.75亿。新上映的电影《海关战线》首周票房为7435万，累计票房7497万。《寂静之地：入侵日》和《来福大酒店》分别排在第四和第五位。此外，电影《草木人间》发布了日本版海报，海报中吴磊安睡的样子被展现出来。\",\"icon\":\"https://sfile.chatglm.cn/searchImage/eastday_icon.jpg\",\"index\":0,\"link\":\"http://mini.eastday.com/nsa/n240702175540093.html\",\"media\":\"东方网\",\"refer\":\"ref_11\",\"title\":\"王传君张钧甯吴镇宇《默杀》提档7.3 《头脑特工队2》成全球影史最快破10亿动画电影​\"},{\"content\":\"中国电影市场暑期档期间，观众迎来了多部进口影片的供应。到目前为止，超过十部电影已经上映，并且其中五部票房收入超过了亿人民币。新上映的影片如《抓娃娃》等，已经引起了市场的热烈反响，显示了观众对于好电影的期待和需求。有投资者提到，如果电影的目标观众包括学生群体，最佳上映时间应该是长假期间。中国电影公司表示，今年暑期档的进口影片供应相对充足，已经上映的影片数量超出十部，并 Formula: [待定]有五部的票房收入超过亿人民币。《死侍与金刚狼》和《地球脉动：极境生存》等影片也将很快与观众见面，预期将为暑期档增添更多多元化观影选择。《只此青绿》和《大场面》这两部公司出品的电影的具体上映时间尚未确定。感谢大家的关注。\",\"icon\":\"https://sfile.chatglm.cn/searchImage/stockstar_icon.jpg\",\"index\":0,\"link\":\"https://stock.stockstar.com/IG2024072300032985.shtml\",\"media\":\"证券之星\",\"refer\":\"ref_12\",\"title\":\"中国电影：暑期档进口影片供给较为丰富，目前已上映的影片超10部，其中5部影片票房过亿\"},{\"content\":\"新上映的外太空惊悚电影《异形：夺命舰》由费德·阿尔瓦雷兹执导和编剧，获得了观众和影评人的高度赞誉。影片目前在烂番茄的新鲜度为82%，观众评分89分，IMDB评分7.5分。故事发生在1979年第一部《异形》和1986年《异形2》之间，讲述了一群年轻的太空殖民者在废弃的太空站遭遇异形的故事。主演包括卡莉·史派妮、伊莎贝拉·默塞德等，雷德利·斯科特担任制片人。电影以其创意的情节和特效场面吸引了众多影迷关注。\",\"icon\":\"https://sfile.chatglm.cn/searchImage/zol_icon.jpg\",\"index\":0,\"link\":\"https://news.zol.com.cn/892/8925748.html\",\"media\":\"中关村在线\",\"refer\":\"ref_13\",\"title\":\"外太空惊悚电影《异形：夺命舰》上映 美国著名影评人纷纷点赞\"},{\"content\":\"今年电影暑期档备受期待，因为安排了超过80部各具特色的电影。暑期档的时间跨度长，涵盖多种类型影片，对全年票房趋势有着举足轻重的影响。其中大制作影片如《死侍与金刚狼》、《机器人之梦》和《寂静之地：入侵日》与国产片《一生交给党》、《红楼梦之金玉良缘》等一同构成了多元化的内容矩阵。动画电影在这一档期尤为突出，如“名侦探柯南”、“哆啦A梦”和“白蛇”等。许多新上映的电影背后站着熟悉的名字和成功系列的续集，如《白蛇：浮生》和《哆啦A梦：大雄的地球交响乐》。尽管面临国际体育赛事时间重叠的挑战，但丰富的片源、持续增加的新片以及部分影片在质量、演员阵容和话题讨论上的优势，都预示着有望实现口碑与票房的双赢。我们期待这股中外电影交流的潮流，以及业界新老力量的相互促进，为中国电影市场注入更多活力，催生更多高质量、高适应性的作品。\",\"icon\":\"https://sfile.chatglm.cn/searchImage/china_icon.jpg\",\"index\":0,\"link\":\"https://news.china.com/socialgd/10000169/20240703/46790943.html\",\"media\":\"中华网\",\"refer\":\"ref_14\",\"title\":\"人民网：今年电影暑期档值得期待 佳片云集，类型繁多\"},{\"content\":\"据人民网报道，2024年暑期档电影票房（6月至8月）已突破60亿元。目前，新上映的电影如《抓娃娃》、《默杀》和《云边有个小卖部》等排在票房榜前列。炎炎夏日，观影成了许多人消暑的选择。影院内不断更新的佳作，推动了电影市场热度的上升。各类影片如剧情片、喜剧片、悬疑片等，给观众带来了丰富的观影体验。 responses to the hot summer viewing season, cinemas has introduced various promotional activities and optimized scheduling to provide viewers with a better experience. In addition, regions such as Beijing, Shanghai, Zhejiang, and Hunan have also distributed movie coupons to further improve the supply of film consumption,release potential, and attract more audiences to cinemas. Midway through the summer,various films are competing for attention and are constantly innovating in subject matter and creative techniques.exists, and is预期暑期档电影的强劲走势将为 the year's film market and promote the high-quality development of Chinese films. So, how many movies have you watched this summer?\",\"icon\":\"https://sfile.chatglm.cn/searchImage/sina_icon.jpg\",\"index\":0,\"link\":\"https://finance.sina.com.cn/jjxw/2024-07-23/doc-incfamtm0616406.shtml\",\"media\":\"新浪财经\",\"refer\":\"ref_15\",\"title\":\"暑期档电影票房破60亿 优惠观影点燃夏日激情\"},{\"content\":\"《红楼梦之金玉良缘》是一部新上映的电影，适合家长与孩子一同观看，提供了一个有意义的文化之旅。这部电影以现代视角重新演绎了经典名著《红楼梦》，让古典文学走进现实生活，受到观众及专家的好评。电影通过长达十八年的筹备与制作，不仅高度还原了原著中的场景与服饰，还采用了倒叙的方式讲述故事，使得即使没有阅读过原著的观众也能够轻松跟进。此外，电影被看作是对《红楼梦》教育的补充，有助于学生对名著的理解，并且与语文教育紧密结合，有利于孩子在娱乐中学习并增进对传统文化的认识和兴趣。暑期期间，这部电影为家长与孩子提供了亲子互动的机会，有助于加强家庭成员之间的情感联系，同时引导孩子形成正确的价值观和人生观。\",\"icon\":\"https://sfile.chatglm.cn/searchImage/163_icon.jpg\",\"index\":0,\"link\":\"https://www.163.com/dy/article/J9S67T6J0536MHG4.html?clickfrom=w_mv_music\",\"media\":\"网易新闻\",\"refer\":\"ref_16\",\"title\":\"暑期不无聊！《红楼梦之金玉良缘》带你和孩子共赴文化之旅！\"},{\"content\":\"上周末北美电影市场，恐怖惊悚片《异形：夺命舰》上映，以4150万美元的开画票房超出预期，登上票房排行榜首位，超过了此前连续多周占据榜首的《死侍与金刚狼》。《异形：夺命舰》在北美3885家影院上映，同时在全球市场也表现出色，特别是在中国内地市场，以1.87亿元人民币夺得周末票房冠军。《死侍与金刚狼》的全球票房上周超越了《小丑》，成为全球票房最高的限制级电影。迪士尼凭借《异形：夺命舰》和《死侍与金刚狼》等来自原20世纪福斯的作品，在北美市场取得了显著成绩，截至目前年度北美票房占比超过两成。此外，今年迪士尼还有《海洋奇缘2》和《狮子王：木法沙传奇》两部作品即将上映。在北美市场，其他新上映的影片表现不佳，而《鬼妈妈》的15周年重映活动取得了1130万美元票房，排在周末票房榜第五位。然而，整体而言，2024年至今为止北美累计票房相比2023年同期仍有15%的缺口。影评人欧文·格莱伯曼指出，过去自诩为电影爱好者的观众群体现在已习惯在家中观看电影，而实际上走进影院支持电影的观众才是真正的“好人”。\",\"icon\":\"https://sfile.chatglm.cn/searchImage/thepaper_icon.jpg\",\"index\":0,\"link\":\"https://www.thepaper.cn/newsDetail_forward_28456200?commTag=true\",\"media\":\"澎湃新闻\",\"refer\":\"ref_17\",\"title\":\"《异形：夺命舰》开画表现超预期\"},{\"content\":\"文章介绍了夏日电影市场的热闹景象。暑假期间，许多人选择去影院观看电影，新上映的电影种类多样，有剧情、动画、喜剧、悬疑、爱情和现实等题材，其中不少是现实主义题材，关注普通人生活，引起了广泛关注。此外，还有很多以中国传统文化为背景的动画电影。暑期档总票房已经超过46亿元，观影人次超过1亿。为了吸引观众，影院也采取了优化排片和推出优惠活动等措施。总的来说，丰富的电影内容和优异的票房成绩展现了中国电影市场的活力和创新精神。\",\"icon\":\"https://sfile.chatglm.cn/searchImage/sohu_icon.jpg\",\"index\":0,\"link\":\"https://www.sohu.com/a/794003836_100110321\",\"media\":\"搜狐新闻\",\"refer\":\"ref_18\",\"title\":\"超百部影片云集 夏日电影市场火热“升温”\"},{\"content\":\"北美票房数据显示，新上映的电影《龙卷风》在首映周末取得了出色成绩，以约8050万美元的成绩登上周末票房排行榜榜首。同时，《神偷奶爸4》和《头脑特工队2》分别位列第二和第三位。此外，《龙卷风》在北美以外的市场也取得了不错的票房。而即将上映的《死侍与金刚狼》也备受期待。总的来说，北美电影市场继续保持热络态势。\",\"icon\":\"https://sfile.chatglm.cn/searchImage/163_icon.jpg\",\"index\":0,\"link\":\"https://www.163.com/dy/article/J7ML0BB90514R9OJ.html?clickfrom=w_mv_music\",\"media\":\"网易新闻\",\"refer\":\"ref_19\",\"title\":\"北美票房：“龙卷风”首映夺冠 “金刚狼”蓄势待发\"},{\"content\":\"据报告，中国暑期档电影票房在2024年7月18日达到了50亿元人民币，显示了电影市场的持续活跃。其中，《默杀》一片以对校园霸凌等社会问题的关注而获得了观众的广泛关注，票房超过了10亿元人民币。导演柯汶利强调，成功的票房并不存在固定模式，而是需要聚焦观众当前的需求和时代议题。票房榜首位的是新上映的电影《抓娃娃》，由受欢迎的演员出演的喜剧类型电影一如既往地受到市场的欢迎。今年的暑期档电影类型多样，包括高话题的视觉特效大片、好莱坞IP作品、国产喜剧和悬疑片，业界预期接下来的档期内，由于影片供应充足且质量不佳，电影市场的热度将继续攀升。\",\"icon\":\"https://sfile.chatglm.cn/searchImage/sohu_icon.jpg\",\"index\":0,\"link\":\"https://www.sohu.com/a/794798675_162758\",\"media\":\"搜狐新闻\",\"refer\":\"ref_20\",\"title\":\"口碑破圈、票房突破 中国电影暑期档热度持续攀升\"}],\"type\":\"search_result\"}]}}],\"created\":1724258208,\"id\":\"20240822003644f73ebb3c073945e3\",\"model\":\"web-search-pro\",\"request_id\":\"8a1bc8de-1c5c-4b36-b489-908663167e9c\",\"usage\":{\"completion_tokens\":6000,\"prompt_tokens\":0,\"total_tokens\":6000}}\n"
     ]
    }
   ],
   "source": [
    "if __name__ == '__main__':\n",
    "    run_v4_sync()"
   ]
  }
 ],
 "metadata": {
  "kernelspec": {
   "display_name": "Python 3",
   "language": "python",
   "name": "python3"
  },
  "language_info": {
   "codemirror_mode": {
    "name": "ipython",
    "version": 3
   },
   "file_extension": ".py",
   "mimetype": "text/x-python",
   "name": "python",
   "nbconvert_exporter": "python",
   "pygments_lexer": "ipython3",
   "version": "3.11.4"
  }
 },
 "nbformat": 4,
 "nbformat_minor": 2
}
