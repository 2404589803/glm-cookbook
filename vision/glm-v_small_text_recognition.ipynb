{
 "cells": [
  {
   "cell_type": "markdown",
   "metadata": {},
   "source": [
    "## GLM-4V Small and Complex Text Recognition Task\n",
    "\n",
    "**This tutorial is available in English and is attached below the Chinese explanation**\n",
    "\n",
    "这篇内容通过密集手写字的辨别和地图中地点的识别两项任务演示了GLM-4V在小字体复杂内容中的图像识别能力。\n",
    "\n",
    "This content demonstrates the GLM-4V's image recognition capabilities in complex content with small fonts through two tasks, the recognition of crammed handwriting and the recognition of locations in a map."
   ]
  },
  {
   "cell_type": "markdown",
   "metadata": {},
   "source": [
    "首先，导入所有库，为 API 密钥设置环境变量，并启动client。然后，将 \"JPEG \"或 \"PNG \"格式的图像转换为 base64 编码字符串。\n",
    "\n",
    "First, import all libraries, set up an environmental variable for the API key, and initiate the client. Then, convert the image in \"JPEG\" or \"PNG\" formats to the base64 encoded string. "
   ]
  },
  {
   "cell_type": "code",
   "execution_count": 1,
   "metadata": {},
   "outputs": [],
   "source": [
    "import os\n",
    "from zhipuai import ZhipuAI\n",
    "import base64\n",
    "import io\n",
    "from PIL import Image\n",
    "\n",
    "os.environ[\"ZHIPUAI_API_KEY\"] = \"your api key\"\n",
    "\n",
    "client = ZhipuAI()\n",
    "\n",
    "def image_to_base64(image_path):\n",
    "    \"\"\"Convert an image to base64 encoding.\"\"\"\n",
    "    with Image.open(image_path) as image:\n",
    "        buffered = io.BytesIO()\n",
    "        image.save(buffered, format=\"PNG\") # change to \"JPEG\" depending on the format\n",
    "        img_str = base64.b64encode(buffered.getvalue()).decode()\n",
    "    return img_str"
   ]
  },
  {
   "cell_type": "markdown",
   "metadata": {},
   "source": [
    "### 1. 识别扫描的密集小字体手写 Recognition of scanned page of crammed, small-font handwriting\n",
    "\n",
    "<img src=\"data/scanned_notes.png\" width=\"500\" >\n",
    "\n",
    "\n",
    "\n",
    "上面是一位学生手写的线性代数定理。由于纸张大小限制，字写得非常小并且有时挤在一起，还含有很多数学的符号。如果这位学生想要复用其中的内容的话，重新抄写一遍将会非常困难。因此，我们可以通过GLM-4V的图像识别来减轻这位学生的工作量。\n",
    "\n",
    "Above is a page full of handwritten linear algebra theorem written by a student. Due to the size of the paper, the words are very small and sometimes crammed together, and there are many mathematical symbols. If the student wanted to reuse the content, it would be very difficult to copy it again. Therefore, we can reduce the student's workload by using image recognition in GLM-4V.\n",
    "\n",
    "\n",
    "这里，我们提问定理3.8是什么内容：\n",
    "\n",
    "Here, we ask the model what is Theorem 3.8:"
   ]
  },
  {
   "cell_type": "code",
   "execution_count": null,
   "metadata": {},
   "outputs": [],
   "source": [
    "def analyze_image(image_path):\n",
    "    \"\"\"\n",
    "    Analyze an image based on the provided question.\n",
    "    \n",
    "    Parameters:\n",
    "        image_path (str): The path to the image file.\n",
    "        question (str): The question to ask about the image.\n",
    "        \n",
    "    Returns:\n",
    "        str: The answer to the question.\n",
    "    \"\"\"\n",
    "    base64_image = image_to_base64(image_path)\n",
    "\n",
    "    messages = [\n",
    "        {\n",
    "            \"role\": \"user\",\n",
    "            \"content\": [\n",
    "                {\n",
    "                    \"type\": \"text\",\n",
    "                    \"text\": \"From this scanned photo of handwritten notes, what is theorem 3.8?\"\n",
    "                },\n",
    "                {\n",
    "                    \"type\": \"image_url\",\n",
    "                    \"image_url\": {\n",
    "                        \"url\": base64_image\n",
    "                    }\n",
    "                }\n",
    "            ]\n",
    "        }\n",
    "    ]\n",
    "\n",
    "    response = client.chat.completions.create(\n",
    "        model=\"glm-4v\",\n",
    "        messages=messages,\n",
    "        temperature=0.1,\n",
    "        top_p=0.1\n",
    "    )\n",
    "\n",
    "    return response.choices[0].message.content\n",
    "\n",
    "answer = analyze_image(\"data/scanned_notes.png\")\n",
    "\n",
    "print(answer)"
   ]
  },
  {
   "cell_type": "markdown",
   "metadata": {},
   "source": [
    "通过把base64的字符串放进模型中，得到以下回答：\n",
    "\n",
    "Now, pass the base64 string to the model to obtain and return this response：\n",
    "\n"
   ]
  },
  {
   "cell_type": "markdown",
   "metadata": {},
   "source": [
    "<blockquote style=\"text-color: #f0f0f0; padding: 10px; border-left: 5px solid #cccccc;\">\n",
    "\n",
    "Theorem 3.8 states: \"Let T: R^m → R^n. Then T is a linear transformation if and only if T(x) = Ax for some nxm matrix A.\" \n",
    "\n",
    "\n",
    "\n",
    "\n",
    "This means that a function T from R^m to R^n is a linear transformation if it can be represented by multiplying every vector in its domain by a fixed nxm matrix A. Conversely, any function satisfying this equation is necessarily a linear transformation.\n",
    "\n",
    "</blockquote>"
   ]
  },
  {
   "cell_type": "markdown",
   "metadata": {},
   "source": [
    "我们可以看出，回答中的定理一字不差的正确，并还给予了两句话简单的解释。\n",
    "\n",
    "We can see that the theorem in the response is exactly correct, and a two-sentence brief explanation is also given."
   ]
  },
  {
   "cell_type": "markdown",
   "metadata": {},
   "source": [
    "\n"
   ]
  },
  {
   "cell_type": "markdown",
   "metadata": {},
   "source": [
    "另一些时候，给出的定理可能大多正确，但有细微错误（标红部分为错误）：\n",
    "\n",
    "Other times, the theorem given may be mostly correct, but with minor errors (errors are in red):\n"
   ]
  },
  {
   "cell_type": "markdown",
   "metadata": {},
   "source": [
    "<blockquote style=\"text-color: #f0f0f0; padding: 10px; border-left: 5px solid #cccccc;\">\n",
    "\n",
    "**From this scanned photo of handwritten notes, what is theorem 3.23?**\n",
    "\n",
    "Theorem 3.23 from the provided image states: \"Suppose that A is an invertible matrix with AB=I_n. Then BA=I_<span style=\"color:red\">m</span>, and the matrix B such that AB=BA=I_n is unique.\"\n",
    "\n",
    "</blockquote>"
   ]
  },
  {
   "cell_type": "markdown",
   "metadata": {},
   "source": [
    "### 2.\t识别背景复杂的地图中特定颜色地点 Identify locations with different colors in maps with complex backgrounds\n",
    "\n",
    "<img src=\"data/map.png\" width=\"500\">\n",
    "\n",
    "\n",
    "用同样的方法，更改问题和图片路径，就可以识别上面来自Google Maps地图中的地点。\n",
    "\n",
    "Using the same method, changing the question and image paths will allow us to recognize locations on Google Maps."
   ]
  },
  {
   "cell_type": "code",
   "execution_count": null,
   "metadata": {},
   "outputs": [],
   "source": [
    "def analyze_image(image_path):\n",
    "    \"\"\"\n",
    "    Analyze an image based on the provided question.\n",
    "    \n",
    "    Parameters:\n",
    "        image_path (str): The path to the image file.\n",
    "        question (str): The question to ask about the image.\n",
    "        \n",
    "    Returns:\n",
    "        str: The answer to the question.\n",
    "    \"\"\"\n",
    "    base64_image = image_to_base64(image_path)\n",
    "\n",
    "    messages = [\n",
    "        {\n",
    "            \"role\": \"user\",\n",
    "            \"content\": [\n",
    "                {\n",
    "                    \"type\": \"text\",\n",
    "                    \"text\": \"What are the names of the locations?\"\n",
    "                },\n",
    "                {\n",
    "                    \"type\": \"image_url\",\n",
    "                    \"image_url\": {\n",
    "                        \"url\": base64_image\n",
    "                    }\n",
    "                }\n",
    "            ]\n",
    "        }\n",
    "    ]\n",
    "\n",
    "    response = client.chat.completions.create(\n",
    "        model=\"glm-4v\",\n",
    "        messages=messages,\n",
    "        temperature=0.1,\n",
    "        top_p=0.1\n",
    "    )\n",
    "\n",
    "    return response.choices[0].message.content\n",
    "\n",
    "answer = analyze_image(\"vision/data/map.png\")\n",
    "\n",
    "print(answer)"
   ]
  },
  {
   "cell_type": "markdown",
   "metadata": {},
   "source": [
    "<blockquote style=\"text-color: #f0f0f0; padding: 10px; border-left: 5px solid #cccccc;\">\n",
    "\n",
    "The image shows a map with several labeled locations. From top to bottom and from left to right, the visible labels include:\n",
    "\n",
    "\n",
    "1. USPS Distribution Center\n",
    "2. Blue Plate\n",
    "3. Ever\n",
    "4. SalonDJ Hairtography\n",
    "5. W Fulton St\n",
    "\n",
    "6. <span style=\"color:red\">N Ada St</span>\n",
    "\n",
    "7. W Fulton Market\n",
    "8. The Elizabeth Chicago\n",
    "9. Peoria Packing Butcher Shop\n",
    "10. Latin Rhythms Academy of Dance & Performance\n",
    "11. Bottom Lounge\n",
    "12. Gyu-Kaku Japanese BBQ\n",
    "13. City Winery Chicago\n",
    "14. Kaiser Tiger Beer Garden\n",
    "\n",
    "</blockquote>\n"
   ]
  },
  {
   "cell_type": "markdown",
   "metadata": {},
   "source": [
    "我们可以看出，在地图的背景杂乱的情况下，模型识别的地址也基本准确，只有一个错误。\n",
    "\n",
    "We can see that the model recognizes the addresses largely accurately even with the cluttered background of the map, with only one error."
   ]
  },
  {
   "cell_type": "markdown",
   "metadata": {},
   "source": [
    "还可以辨别不同颜色的地点：\n",
    "\n",
    "<blockquote style=\"text-color: #f0f0f0; padding: 10px; border-left: 5px solid #cccccc;\">\n",
    "\n",
    "**What are the names of the locations in orange?**\n",
    "\n",
    "The locations with an orange icon on the map are:\n",
    "\n",
    "1. <span style=\"color:red\">Blue Plate</span>\n",
    "2. Ever\n",
    "3. Gyu-Kaku Japanese BBQ\n",
    "4. Kaiser Tiger Beer Garden\n",
    "\n",
    "</blockquote>\n",
    "\n",
    "<blockquote style=\"text-color: #f0f0f0; padding: 10px; border-left: 5px solid #cccccc;\">\n",
    "\n",
    "**What are the names of the locations in blue?**\n",
    "\n",
    "The locations in blue on the map are:\n",
    "\n",
    "1. Peoria Packing Butcher Shop\n",
    "2. City Winery Chicago\n",
    "3. <span style=\"color:red\">Solo Salon – Elizabeth</span>\n",
    "\n",
    "</blockquote>"
   ]
  },
  {
   "cell_type": "markdown",
   "metadata": {},
   "source": [
    "### 3. 彩蛋：问GLM-4V是9.9大还是9.11大  Bonus: Asking GLM-4V whether 9.9 is larger or 9.11 is larger\n",
    "\n",
    "给GLM-4V一张中央有“Which number is larger between 9.9 and 9.11?”的图片，并且给它“回答问题”的指示。\n",
    "\n",
    "Provide GLM-4V with an image that has the question “Which number is larger between 9.9 and 9.11?”, and give it the instruction \"Answer the question\".\n",
    "\n",
    "<img src=\"data/compare_numbers.png\" width=\"500\">\n",
    "\n",
    "得到以下回答：\n",
    "\n",
    "<blockquote style=\"text-color: #f0f0f0; padding: 10px; border-left: 5px solid #cccccc;\">\n",
    "\n",
    "We get the following response:\n",
    "\n",
    "To determine which number is larger between 9.9 and 9.11, you can look at them side by side:\n",
    "\n",
    "- 9.9 has a decimal point followed by 2 digits, which are 9 and 9.\n",
    "- 9.11 has a decimal point followed by 3 digits, which are 9, 1, and 1.\n",
    "\n",
    "Since 9.11 has more digits after the decimal point than 9.9 does, it is the larger number.\n",
    "\n",
    "</blockquote>\n",
    "\n"
   ]
  },
  {
   "cell_type": "markdown",
   "metadata": {},
   "source": [
    "这个回答显然不太正确，于是把指示换成“深思熟虑地回答问题”。我们得到了一个更合理的答复：\n",
    "\n",
    "This response was clearly incorrect, so the instruction was replaced with “Answer the question thoughtfully”. And we get a more reasonable response:\n",
    "\n",
    "<blockquote style=\"text-color: #f0f0f0; padding: 10px; border-left: 5px solid #cccccc;\">\n",
    "\n",
    "To determine which number is larger between 9.9 and 9.11, we can look at them side by side:\n",
    "\n",
    "- 9.9 has a decimal point followed by 2 digits, which are 9 and 9.\n",
    "- 9.11 has a decimal point followed by 3 digits, which are 9, 1, and 1.\n",
    "\n",
    "We compare these numbers from left to right, ignoring any zeros that might be in front of the decimal point since they don't affect the comparison.\n",
    "\n",
    "Since 9 is greater than 1, and both have the same number after the decimal point (which is 9), 9.9 is larger than 9.11.\n",
    "\n",
    "Therefore, the answer is that 9.9 is larger than 9.11.\n",
    "\n",
    "</blockquote>"
   ]
  }
 ],
 "metadata": {
  "kernelspec": {
   "display_name": "Python 3",
   "language": "python",
   "name": "python3"
  },
  "language_info": {
   "codemirror_mode": {
    "name": "ipython",
    "version": 3
   },
   "file_extension": ".py",
   "mimetype": "text/x-python",
   "name": "python",
   "nbconvert_exporter": "python",
   "pygments_lexer": "ipython3",
   "version": "3.12.4"
  }
 },
 "nbformat": 4,
 "nbformat_minor": 2
}
