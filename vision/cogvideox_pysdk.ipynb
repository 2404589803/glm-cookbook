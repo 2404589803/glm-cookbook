{
 "cells": [
  {
   "cell_type": "markdown",
   "source": [
    "# Python SDK to access the ZhipuAI GLM-4 Vision API\n",
    "\n",
    "**This tutorial is available in English and is attached below the Chinese explanation**\n",
    "\n",
    "此代码将讲述如何使用Python SDK 调用 CogVideoX, 完成视频生成工作。\n",
    "\n",
    "This code will describe how to use the Python SDK to call CogVideoX and complete the video generation work."
   ],
   "metadata": {
    "collapsed": false
   },
   "id": "b9d2202d7ce04a48"
  },
  {
   "metadata": {},
   "cell_type": "markdown",
   "source": [
    "首先，我们需要安装最新版本的智谱AI SDK，只有 > 2.1.4 的SDK版本支持视频生成模型。\n",
    "\n",
    "First, we need to install the latest version of the ZhipuAI SDK. Only SDK versions > 2.1.4 support video generation models."
   ],
   "id": "ce47e6fa6d8a7a94"
  },
  {
   "metadata": {
    "ExecuteTime": {
     "end_time": "2024-07-26T04:07:24.549618Z",
     "start_time": "2024-07-26T04:07:23.033491Z"
    }
   },
   "cell_type": "code",
   "source": "!pip install --upgrade zhipuai",
   "id": "6d5fd3be59f15a13",
   "outputs": [
    {
     "name": "stdout",
     "output_type": "stream",
     "text": [
      "Requirement already satisfied: zhipuai in /Users/zr/Code/glm-cookbook/venv/lib/python3.9/site-packages (2.1.4)\r\n",
      "Requirement already satisfied: cachetools>=4.2.2 in /Users/zr/Code/glm-cookbook/venv/lib/python3.9/site-packages (from zhipuai) (5.3.2)\r\n",
      "Requirement already satisfied: httpx>=0.23.0 in /Users/zr/Code/glm-cookbook/venv/lib/python3.9/site-packages (from zhipuai) (0.27.0)\r\n",
      "Requirement already satisfied: pydantic<3.0,>=1.9.0 in /Users/zr/Code/glm-cookbook/venv/lib/python3.9/site-packages (from zhipuai) (2.5.3)\r\n",
      "Requirement already satisfied: pydantic-core>=2.14.6 in /Users/zr/Code/glm-cookbook/venv/lib/python3.9/site-packages (from zhipuai) (2.14.6)\r\n",
      "Requirement already satisfied: pyjwt<2.9.0,>=2.8.0 in /Users/zr/Code/glm-cookbook/venv/lib/python3.9/site-packages (from zhipuai) (2.8.0)\r\n",
      "Requirement already satisfied: anyio in /Users/zr/Code/glm-cookbook/venv/lib/python3.9/site-packages (from httpx>=0.23.0->zhipuai) (4.2.0)\r\n",
      "Requirement already satisfied: certifi in /Users/zr/Code/glm-cookbook/venv/lib/python3.9/site-packages (from httpx>=0.23.0->zhipuai) (2023.11.17)\r\n",
      "Requirement already satisfied: httpcore==1.* in /Users/zr/Code/glm-cookbook/venv/lib/python3.9/site-packages (from httpx>=0.23.0->zhipuai) (1.0.5)\r\n",
      "Requirement already satisfied: idna in /Users/zr/Code/glm-cookbook/venv/lib/python3.9/site-packages (from httpx>=0.23.0->zhipuai) (3.6)\r\n",
      "Requirement already satisfied: sniffio in /Users/zr/Code/glm-cookbook/venv/lib/python3.9/site-packages (from httpx>=0.23.0->zhipuai) (1.3.0)\r\n",
      "Requirement already satisfied: h11<0.15,>=0.13 in /Users/zr/Code/glm-cookbook/venv/lib/python3.9/site-packages (from httpcore==1.*->httpx>=0.23.0->zhipuai) (0.14.0)\r\n",
      "Requirement already satisfied: annotated-types>=0.4.0 in /Users/zr/Code/glm-cookbook/venv/lib/python3.9/site-packages (from pydantic<3.0,>=1.9.0->zhipuai) (0.6.0)\r\n",
      "Requirement already satisfied: typing-extensions>=4.6.1 in /Users/zr/Code/glm-cookbook/venv/lib/python3.9/site-packages (from pydantic<3.0,>=1.9.0->zhipuai) (4.9.0)\r\n",
      "Requirement already satisfied: exceptiongroup>=1.0.2 in /Users/zr/Code/glm-cookbook/venv/lib/python3.9/site-packages (from anyio->httpx>=0.23.0->zhipuai) (1.2.0)\r\n",
      "\u001B[33mWARNING: Error parsing dependencies of textract: .* suffix can only be used with `==` or `!=` operators\r\n",
      "    extract-msg (<=0.29.*)\r\n",
      "                 ~~~~~~~^\u001B[0m\u001B[33m\r\n",
      "\u001B[0m"
     ]
    }
   ],
   "execution_count": 17
  },
  {
   "metadata": {},
   "cell_type": "markdown",
   "source": [
    "接着，我们需要配置 API Key，这个 API Key 可以在 [ZhipuAI API 平台申请](https://open.bigmodel.cn/) 。我们可以通过以下方式配置 API Key\n",
    "\n",
    "Next, we need to configure the API Key. This API Key can be applied on [ZhipuAI API Platform](https://open.bigmodel.cn/). We can configure the API Key in the following ways"
   ],
   "id": "61708225b98e39aa"
  },
  {
   "cell_type": "code",
   "source": [
    "import os\n",
    "from zhipuai import ZhipuAI\n",
    "\n",
    "os.environ[\"ZHIPUAI_API_KEY\"] = \"your api key\"\n",
    "client = ZhipuAI()\n"
   ],
   "metadata": {
    "collapsed": false,
    "ExecuteTime": {
     "end_time": "2024-07-26T04:07:24.565336Z",
     "start_time": "2024-07-26T04:07:24.550999Z"
    }
   },
   "id": "f03a65879fc8edb8",
   "outputs": [],
   "execution_count": 18
  },
  {
   "cell_type": "markdown",
   "source": [
    "选择需要生成视频的提示词，由于视频只有6秒，因此，不需要过多的文字描述。我们选择一个简单的描述。\n",
    "\n",
    "Choose the prompt words that need to generate the video. Since the video is only 6 seconds, there is no need for too much text description. We choose a simple description."
   ],
   "metadata": {
    "collapsed": false
   },
   "id": "524d71278f724da1"
  },
  {
   "metadata": {
    "ExecuteTime": {
     "end_time": "2024-07-26T04:07:24.567917Z",
     "start_time": "2024-07-26T04:07:24.566173Z"
    }
   },
   "cell_type": "code",
   "source": "prompt = \"比得兔开小汽车，游走在马路上，脸上的表情充满开心喜悦。\"",
   "id": "5066f2979d000409",
   "outputs": [],
   "execution_count": 19
  },
  {
   "cell_type": "markdown",
   "source": [
    "我们已经组织好了信息和图片，现在让我们按照[官方文档](https://open.bigmodel.cn/dev/api#cogvideox)的内容传入对应的参数并获取模型的回答。\n",
    "需要注意的是，该模型暂时不支持图片传入，也不支持任何额外的参数，例如温度等。\n",
    "We have organized the information and pictures, now let us follow the [official document](https://open.bigmodel.cn/dev/api#cogvideox) to pass in the corresponding parameters and get the model's answer, please note that the model does not support image input and does not support any additional parameters, such as temperature."
   ],
   "metadata": {
    "collapsed": false
   },
   "id": "5637a50d4f7c7383"
  },
  {
   "cell_type": "code",
   "source": [
    "response = client.videos.generations(\n",
    "\t    model=\"cogvideox\",\n",
    "\t    prompt=prompt\n",
    "\t)\n",
    "print(response)\n"
   ],
   "metadata": {
    "collapsed": false,
    "ExecuteTime": {
     "end_time": "2024-07-26T04:07:26.482570Z",
     "start_time": "2024-07-26T04:07:24.569471Z"
    }
   },
   "id": "b9ba237babf6fb35",
   "outputs": [
    {
     "name": "stdout",
     "output_type": "stream",
     "text": [
      "VideoObject(id='476916963227608958872445068315179318', model='cogvideox', video_result=None, task_status='PROCESSING', request_id='8872445068315179312')\n"
     ]
    }
   ],
   "execution_count": 20
  },
  {
   "cell_type": "markdown",
   "source": [
    "在完成视频生成之后（这可能需要等待1-2分钟），我们可以下载视频。\n",
    "\n",
    "After the video generation is complete (this may take 1-2 minutes), we can download the video."
   ],
   "metadata": {
    "collapsed": false
   },
   "id": "fd97d54e0506c728"
  },
  {
   "cell_type": "code",
   "source": [
    "id = response.id\n",
    "response = client.videos.retrieve_videos_result(\n",
    "\t    id=id\n",
    "\t)\n",
    "print(response)"
   ],
   "metadata": {
    "collapsed": false,
    "ExecuteTime": {
     "end_time": "2024-07-26T04:08:07.678921Z",
     "start_time": "2024-07-26T04:08:07.328409Z"
    }
   },
   "id": "584b816346cec5b9",
   "outputs": [
    {
     "name": "stdout",
     "output_type": "stream",
     "text": [
      "VideoObject(id=None, model='cogvideox', video_result=[VideoResult(url='https://sfile.chatglm.cn/testpath/video/6a7146a5-d9a0-54fe-9baa-23ededd8e50d_0.mp4', cover_image_url='https://sfile.chatglm.cn/testpath/video_cover/6a7146a5-d9a0-54fe-9baa-23ededd8e50d_cover_0.png')], task_status='SUCCESS', request_id='8872445068315179312')\n"
     ]
    }
   ],
   "execution_count": 23
  },
  {
   "cell_type": "markdown",
   "source": [
    "下载这个视频，我们可以看到生成的视频。\n",
    "\n",
    "Download this video, we can see the generated video."
   ],
   "metadata": {
    "collapsed": false
   },
   "id": "ebf92a68c1a51e8c"
  },
  {
   "cell_type": "code",
   "source": "!wget -O video.mp4 {response.video_result[0].url}",
   "metadata": {
    "collapsed": false,
    "ExecuteTime": {
     "end_time": "2024-07-26T04:08:11.826480Z",
     "start_time": "2024-07-26T04:08:09.509167Z"
    }
   },
   "id": "eb264e5c17d6eba7",
   "outputs": [
    {
     "name": "stdout",
     "output_type": "stream",
     "text": [
      "--2024-07-26 12:08:09--  https://sfile.chatglm.cn/testpath/video/6a7146a5-d9a0-54fe-9baa-23ededd8e50d_0.mp4\r\n",
      "Resolving sfile.chatglm.cn (sfile.chatglm.cn)... 180.213.251.216\r\n",
      "Connecting to sfile.chatglm.cn (sfile.chatglm.cn)|180.213.251.216|:443... connected.\r\n",
      "HTTP request sent, awaiting response... 200 OK\r\n",
      "Length: 1736507 (1.7M) [video/mp4]\r\n",
      "Saving to: ‘video.mp4’\r\n",
      "\r\n",
      "video.mp4           100%[===================>]   1.66M   929KB/s    in 1.8s    \r\n",
      "\r\n",
      "2024-07-26 12:08:11 (929 KB/s) - ‘video.mp4’ saved [1736507/1736507]\r\n",
      "\r\n"
     ]
    }
   ],
   "execution_count": 24
  }
 ],
 "metadata": {
  "kernelspec": {
   "display_name": "Python 3",
   "language": "python",
   "name": "python3"
  },
  "language_info": {
   "codemirror_mode": {
    "name": "ipython",
    "version": 2
   },
   "file_extension": ".py",
   "mimetype": "text/x-python",
   "name": "python",
   "nbconvert_exporter": "python",
   "pygments_lexer": "ipython2",
   "version": "2.7.6"
  }
 },
 "nbformat": 4,
 "nbformat_minor": 5
}
