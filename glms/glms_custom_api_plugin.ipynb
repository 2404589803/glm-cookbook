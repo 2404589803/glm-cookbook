{
 "cells": [
  {
   "cell_type": "raw",
   "source": [
    "# 在GLMs 中插入自己的 API 作为一个插件\n",
    "\n",
    "GLMs 支持使用满足条件的 Open API 来添加额外的插件"
   ],
   "metadata": {
    "collapsed": false
   },
   "id": "6a273006d6e129b5"
  },
  {
   "cell_type": "code",
   "outputs": [],
   "source": [],
   "metadata": {
    "collapsed": false
   },
   "id": "b6ba93451c5e17bb"
  }
 ],
 "metadata": {
  "kernelspec": {
   "display_name": "Python 3",
   "language": "python",
   "name": "python3"
  },
  "language_info": {
   "codemirror_mode": {
    "name": "ipython",
    "version": 2
   },
   "file_extension": ".py",
   "mimetype": "text/x-python",
   "name": "python",
   "nbconvert_exporter": "python",
   "pygments_lexer": "ipython2",
   "version": "2.7.6"
  }
 },
 "nbformat": 4,
 "nbformat_minor": 5
}
