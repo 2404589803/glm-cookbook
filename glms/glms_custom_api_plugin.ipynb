{
 "cells": [
  {
   "cell_type": "markdown",
   "source": [
    "# 在GLMs 中插入自己的 API 作为一个插件\n",
    "\n",
    "**This tutorial is Only in Chinese explanation**\n",
    "\n",
    "GLMs 支持使用满足条件的 Open API 来添加额外的插件。本教程将帮助你了解如何使用 GLMs 的 API 来添加自己的插件。\n",
    "\n",
    "与 GPTs Action 相同，使用 GLMs 也能自定义引入外部的API 作为信息参考来源，本教程展示如何配置并使用 Open API 的方式进行调用。\n",
    "\n",
    "<span style='color: red; font-weight: bold;'>⚠️ 此部分教程当前版本 智谱清研 还没有支持，以后再来探索吧 ⚠️</span>"
   ],
   "metadata": {
    "collapsed": false
   },
   "id": "e50aa5b11e376dee"
  },
  {
   "cell_type": "markdown",
   "source": [
    "## 1. 使用 GLMs 自定义API 构建天气查询组件\n",
    "我们将要点击图中的 `添加新API` 按钮来添加一个新的API。\n",
    "![添加新API](glms/asset/build_outside_api/1.png) \n",
    "我们使用 知心天气 API 作为示例，构建一个天气查询组件。首先，我们需要注册并获取 API 的 `appkey`。\n",
    "假设你的API Key是："
   ],
   "metadata": {
    "collapsed": false
   },
   "id": "728a433bcbb49722"
  },
  {
   "cell_type": "code",
   "outputs": [],
   "source": [
    "app_key = 'API_KEY'"
   ],
   "metadata": {
    "collapsed": false
   },
   "id": "6d9bbe151ba586e4"
  },
  {
   "cell_type": "markdown",
   "source": [
    "## 2. 构建 Open API 格式的内容\n",
    "如果你熟悉 Open API 的格式，你可以直接构建一个 Open API 的格式。\n",
    "在这里，我们将根据 [知心天气官方请求示例](https://github.com/seniverse/seniverse-api-demos/blob/master/javascript/index.html) 直接转写一个 OpenAPI 格式。\n",
    "我们根据将 API 请求转写为 Open API 的格式，以便 GLMs 能够识别和调用。下面是一个使用 yaml 格式的示例：\n",
    "\n",
    "```yaml"
   ],
   "metadata": {
    "collapsed": false
   },
   "id": "2bacabab51b0d30b"
  },
  {
   "cell_type": "raw",
   "source": [
    "openapi: 3.0.1\n",
    "info:\n",
    "  title: Simple Weather API\n",
    "  description: API for retrieving weather data based on location.\n",
    "  version: 1.0.0\n",
    "servers:\n",
    "  - url: https://api.seniverse.com/v3/weather\n",
    "paths:\n",
    "  /now.json:\n",
    "    get:\n",
    "      tags:\n",
    "        - Weather Data Retrieval\n",
    "      summary: Retrieve Current Weather Data\n",
    "      operationId: getCurrentWeather\n",
    "      description: 获得当前天气\n",
    "      parameters:\n",
    "        - name: location\n",
    "          in: query\n",
    "          description: Location for which the current weather data is needed.\n",
    "          required: true\n",
    "          schema:\n",
    "            type: string\n",
    "        - name: key\n",
    "          in: query\n",
    "          description: API key for authentication.\n",
    "          required: true\n",
    "          schema:\n",
    "            type: string\n",
    "            enum: [**app_key**]\n",
    "        - name: language\n",
    "          in: query\n",
    "          description: Language for the weather information.\n",
    "          schema:\n",
    "            type: string\n",
    "            default: zh-Hans\n",
    "        - name: unit\n",
    "          in: query\n",
    "          description: Unit for temperature measurement.\n",
    "          schema:\n",
    "            type: string\n",
    "            default: c\n",
    "      responses:\n",
    "        '200':\n",
    "          description: Successful response with weather data\n",
    "          content:\n",
    "            application/json:\n",
    "              schema:\n",
    "                type: object\n",
    "                properties:\n",
    "                  location:\n",
    "                    type: string\n",
    "                  temperature:\n",
    "                    type: string\n",
    "                  conditions:\n",
    "                    type: string\n",
    "                  # Other relevant weather properties\n",
    "        default:\n",
    "          description: Error response\n",
    "          content:\n",
    "            application/json:\n",
    "              schema:\n",
    "                type: object\n",
    "                properties:\n",
    "                  error:\n",
    "                    type: string"
   ],
   "metadata": {
    "collapsed": false
   },
   "id": "21dffbc8c0e09a23"
  },
  {
   "cell_type": "markdown",
   "source": [
    "如果您不能很好的直接自己完成 Open API 文件的书写，您也可以选择使用我们提供的 `API 配置助手` 功能来生成 Open API 文件。在这里，我们将使用 `API 配置助手` 功能来生成 Open API 文件。\n",
    "![智能体帮助](glms/asset/build_outside_api/2.png)"
   ],
   "metadata": {
    "collapsed": false
   },
   "id": "23968b6852887fc2"
  },
  {
   "cell_type": "markdown",
   "source": [
    "## 3.测试智能体\n",
    "\n",
    "完成构建后，我们需要就是将这个 Open API 文件 上传到 GLMs 中。接着，我们就可以对智能体进行测试，我们将在如下界面中，点击 `测试` 按钮发送测试请求。\n",
    "![测试智能体](glms/asset/build_outside_api/3.png)\n",
    "\n",
    "<span style='color: red; font-weight: bold;'>请注意，如果在测试的过程中调用了 `代码生成`, `联网查询` 等功能，需要在测试前先关闭这两个功能。</span>"
   ],
   "metadata": {
    "collapsed": false
   },
   "id": "6472524006bd469a"
  },
  {
   "cell_type": "markdown",
   "source": [
    "## 4. 使用调整好的智能体\n",
    "\n",
    "测试通过之后，就可以返回上一级，此时，外部API功能就已经完成。智能体将会根据用户需求来请求天气信息。并返回用户天气情况。\n",
    "![运行智能体](glms/asset/build_outside_api/4.png)"
   ],
   "metadata": {
    "collapsed": false
   },
   "id": "609e08adafe82d1f"
  }
 ],
 "metadata": {
  "kernelspec": {
   "display_name": "Python 3",
   "language": "python",
   "name": "python3"
  },
  "language_info": {
   "codemirror_mode": {
    "name": "ipython",
    "version": 2
   },
   "file_extension": ".py",
   "mimetype": "text/x-python",
   "name": "python",
   "nbconvert_exporter": "python",
   "pygments_lexer": "ipython2",
   "version": "2.7.6"
  }
 },
 "nbformat": 4,
 "nbformat_minor": 5
}
