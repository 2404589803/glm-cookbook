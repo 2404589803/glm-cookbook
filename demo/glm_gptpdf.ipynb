{
 "cells": [
  {
   "metadata": {},
   "cell_type": "markdown",
   "source": [
    "\n",
    "# Using GLM-4V Model with gptpdf lib\n",
    "\n",
    "**This tutorial is available in English and is attached below the Chinese explanation**\n",
    "\n",
    "[GPTPDF](https://github.com/CosmosShadow/gptpdf) 是一个 Python 仓库，使用视觉大语言模型（如 GPT-4o， GLM-4V）将 PDF 解析为 markdown。方法非常简单(只有293行代码)，但几乎可以完美地解析排版、数学公式、表格、图片、图表等。每页平均价格：0.013 美元（GPT-4o），使用 GeneralAgent lib 与 OpenAI API 交互。在此代码中，我将带领大家使用 GLM-4V 模型来完成该库的调用。\n",
    "\n",
    "[GPTPDF](https://github.com/CosmosShadow/gptpdf) is a Python repository that uses visual large language models (such as GPT-4o, GLM-4V) to parse PDFs into markdown. The method is very simple (only 293 lines of code), but it can almost perfectly parse typesetting, mathematical formulas, tables, pictures, charts, etc. The average price per page: 0.013 USD (GPT-4o), using the GeneralAgent lib to interact with the OpenAI API. In this code, I will guide you to use the GLM-4V model to complete the call to this library."
   ],
   "id": "df77de689d8c4966"
  },
  {
   "metadata": {},
   "cell_type": "markdown",
   "source": [
    "## 1. Install gptpdf\n",
    "\n",
    "使用命令行一键安装 gptpdf。\n",
    "\n",
    "using the command line to install gptpdf."
   ],
   "id": "5819e870e54ef464"
  },
  {
   "metadata": {
    "ExecuteTime": {
     "end_time": "2024-07-03T06:05:48.796237Z",
     "start_time": "2024-07-03T06:05:46.633662Z"
    }
   },
   "cell_type": "code",
   "source": "!pip install gptpdf",
   "id": "8957b76ece221699",
   "outputs": [
    {
     "name": "stdout",
     "output_type": "stream",
     "text": [
      "Requirement already satisfied: gptpdf in /Users/zr/Code/glm-cookbook/venv/lib/python3.9/site-packages (0.0.7)\r\n",
      "Requirement already satisfied: GeneralAgent<0.4.0,>=0.3.13 in /Users/zr/Code/glm-cookbook/venv/lib/python3.9/site-packages (from gptpdf) (0.3.13)\r\n",
      "Requirement already satisfied: pymupdf<2.0.0,>=1.24.7 in /Users/zr/Code/glm-cookbook/venv/lib/python3.9/site-packages (from gptpdf) (1.24.7)\r\n",
      "Requirement already satisfied: python-dotenv<2.0.0,>=1.0.0 in /Users/zr/Code/glm-cookbook/venv/lib/python3.9/site-packages (from gptpdf) (1.0.1)\r\n",
      "Requirement already satisfied: shapely<3.0.0,>=2.0.1 in /Users/zr/Code/glm-cookbook/venv/lib/python3.9/site-packages (from gptpdf) (2.0.4)\r\n",
      "Requirement already satisfied: jinja2<4.0.0,>=3.1.2 in /Users/zr/Code/glm-cookbook/venv/lib/python3.9/site-packages (from GeneralAgent<0.4.0,>=0.3.13->gptpdf) (3.1.3)\r\n",
      "Requirement already satisfied: llama-index<0.11.0,>=0.10.44 in /Users/zr/Code/glm-cookbook/venv/lib/python3.9/site-packages (from GeneralAgent<0.4.0,>=0.3.13->gptpdf) (0.10.51)\r\n",
      "Requirement already satisfied: numpy<2.0.0,>=1.24.4 in /Users/zr/Code/glm-cookbook/venv/lib/python3.9/site-packages (from GeneralAgent<0.4.0,>=0.3.13->gptpdf) (1.26.3)\r\n",
      "Requirement already satisfied: openai<2.0.0,>=1.3.3 in /Users/zr/Code/glm-cookbook/venv/lib/python3.9/site-packages (from GeneralAgent<0.4.0,>=0.3.13->gptpdf) (1.32.0)\r\n",
      "Requirement already satisfied: requests<3.0.0,>=2.31.0 in /Users/zr/Code/glm-cookbook/venv/lib/python3.9/site-packages (from GeneralAgent<0.4.0,>=0.3.13->gptpdf) (2.31.0)\r\n",
      "Requirement already satisfied: tiktoken<0.6.0,>=0.5.1 in /Users/zr/Code/glm-cookbook/venv/lib/python3.9/site-packages (from GeneralAgent<0.4.0,>=0.3.13->gptpdf) (0.5.2)\r\n",
      "Requirement already satisfied: tinydb<5.0.0,>=4.8.0 in /Users/zr/Code/glm-cookbook/venv/lib/python3.9/site-packages (from GeneralAgent<0.4.0,>=0.3.13->gptpdf) (4.8.0)\r\n",
      "Requirement already satisfied: PyMuPDFb==1.24.6 in /Users/zr/Code/glm-cookbook/venv/lib/python3.9/site-packages (from pymupdf<2.0.0,>=1.24.7->gptpdf) (1.24.6)\r\n",
      "Requirement already satisfied: MarkupSafe>=2.0 in /Users/zr/Code/glm-cookbook/venv/lib/python3.9/site-packages (from jinja2<4.0.0,>=3.1.2->GeneralAgent<0.4.0,>=0.3.13->gptpdf) (2.1.4)\r\n",
      "Requirement already satisfied: llama-index-agent-openai<0.3.0,>=0.1.4 in /Users/zr/Code/glm-cookbook/venv/lib/python3.9/site-packages (from llama-index<0.11.0,>=0.10.44->GeneralAgent<0.4.0,>=0.3.13->gptpdf) (0.2.7)\r\n",
      "Requirement already satisfied: llama-index-cli<0.2.0,>=0.1.2 in /Users/zr/Code/glm-cookbook/venv/lib/python3.9/site-packages (from llama-index<0.11.0,>=0.10.44->GeneralAgent<0.4.0,>=0.3.13->gptpdf) (0.1.12)\r\n",
      "Requirement already satisfied: llama-index-core==0.10.51 in /Users/zr/Code/glm-cookbook/venv/lib/python3.9/site-packages (from llama-index<0.11.0,>=0.10.44->GeneralAgent<0.4.0,>=0.3.13->gptpdf) (0.10.51)\r\n",
      "Requirement already satisfied: llama-index-embeddings-openai<0.2.0,>=0.1.5 in /Users/zr/Code/glm-cookbook/venv/lib/python3.9/site-packages (from llama-index<0.11.0,>=0.10.44->GeneralAgent<0.4.0,>=0.3.13->gptpdf) (0.1.10)\r\n",
      "Requirement already satisfied: llama-index-indices-managed-llama-cloud>=0.2.0 in /Users/zr/Code/glm-cookbook/venv/lib/python3.9/site-packages (from llama-index<0.11.0,>=0.10.44->GeneralAgent<0.4.0,>=0.3.13->gptpdf) (0.2.3)\r\n",
      "Requirement already satisfied: llama-index-legacy<0.10.0,>=0.9.48 in /Users/zr/Code/glm-cookbook/venv/lib/python3.9/site-packages (from llama-index<0.11.0,>=0.10.44->GeneralAgent<0.4.0,>=0.3.13->gptpdf) (0.9.48)\r\n",
      "Requirement already satisfied: llama-index-llms-openai<0.2.0,>=0.1.13 in /Users/zr/Code/glm-cookbook/venv/lib/python3.9/site-packages (from llama-index<0.11.0,>=0.10.44->GeneralAgent<0.4.0,>=0.3.13->gptpdf) (0.1.24)\r\n",
      "Requirement already satisfied: llama-index-multi-modal-llms-openai<0.2.0,>=0.1.3 in /Users/zr/Code/glm-cookbook/venv/lib/python3.9/site-packages (from llama-index<0.11.0,>=0.10.44->GeneralAgent<0.4.0,>=0.3.13->gptpdf) (0.1.6)\r\n",
      "Requirement already satisfied: llama-index-program-openai<0.2.0,>=0.1.3 in /Users/zr/Code/glm-cookbook/venv/lib/python3.9/site-packages (from llama-index<0.11.0,>=0.10.44->GeneralAgent<0.4.0,>=0.3.13->gptpdf) (0.1.6)\r\n",
      "Requirement already satisfied: llama-index-question-gen-openai<0.2.0,>=0.1.2 in /Users/zr/Code/glm-cookbook/venv/lib/python3.9/site-packages (from llama-index<0.11.0,>=0.10.44->GeneralAgent<0.4.0,>=0.3.13->gptpdf) (0.1.3)\r\n",
      "Requirement already satisfied: llama-index-readers-file<0.2.0,>=0.1.4 in /Users/zr/Code/glm-cookbook/venv/lib/python3.9/site-packages (from llama-index<0.11.0,>=0.10.44->GeneralAgent<0.4.0,>=0.3.13->gptpdf) (0.1.26)\r\n",
      "Requirement already satisfied: llama-index-readers-llama-parse<0.2.0,>=0.1.2 in /Users/zr/Code/glm-cookbook/venv/lib/python3.9/site-packages (from llama-index<0.11.0,>=0.10.44->GeneralAgent<0.4.0,>=0.3.13->gptpdf) (0.1.4)\r\n",
      "Requirement already satisfied: PyYAML>=6.0.1 in /Users/zr/Code/glm-cookbook/venv/lib/python3.9/site-packages (from llama-index-core==0.10.51->llama-index<0.11.0,>=0.10.44->GeneralAgent<0.4.0,>=0.3.13->gptpdf) (6.0.1)\r\n",
      "Requirement already satisfied: SQLAlchemy>=1.4.49 in /Users/zr/Code/glm-cookbook/venv/lib/python3.9/site-packages (from SQLAlchemy[asyncio]>=1.4.49->llama-index-core==0.10.51->llama-index<0.11.0,>=0.10.44->GeneralAgent<0.4.0,>=0.3.13->gptpdf) (2.0.25)\r\n",
      "Requirement already satisfied: aiohttp<4.0.0,>=3.8.6 in /Users/zr/Code/glm-cookbook/venv/lib/python3.9/site-packages (from llama-index-core==0.10.51->llama-index<0.11.0,>=0.10.44->GeneralAgent<0.4.0,>=0.3.13->gptpdf) (3.9.3)\r\n",
      "Requirement already satisfied: dataclasses-json in /Users/zr/Code/glm-cookbook/venv/lib/python3.9/site-packages (from llama-index-core==0.10.51->llama-index<0.11.0,>=0.10.44->GeneralAgent<0.4.0,>=0.3.13->gptpdf) (0.6.3)\r\n",
      "Requirement already satisfied: deprecated>=1.2.9.3 in /Users/zr/Code/glm-cookbook/venv/lib/python3.9/site-packages (from llama-index-core==0.10.51->llama-index<0.11.0,>=0.10.44->GeneralAgent<0.4.0,>=0.3.13->gptpdf) (1.2.14)\r\n",
      "Requirement already satisfied: dirtyjson<2.0.0,>=1.0.8 in /Users/zr/Code/glm-cookbook/venv/lib/python3.9/site-packages (from llama-index-core==0.10.51->llama-index<0.11.0,>=0.10.44->GeneralAgent<0.4.0,>=0.3.13->gptpdf) (1.0.8)\r\n",
      "Requirement already satisfied: fsspec>=2023.5.0 in /Users/zr/Code/glm-cookbook/venv/lib/python3.9/site-packages (from llama-index-core==0.10.51->llama-index<0.11.0,>=0.10.44->GeneralAgent<0.4.0,>=0.3.13->gptpdf) (2023.12.2)\r\n",
      "Requirement already satisfied: httpx in /Users/zr/Code/glm-cookbook/venv/lib/python3.9/site-packages (from llama-index-core==0.10.51->llama-index<0.11.0,>=0.10.44->GeneralAgent<0.4.0,>=0.3.13->gptpdf) (0.27.0)\r\n",
      "Requirement already satisfied: llama-cloud<0.0.7,>=0.0.6 in /Users/zr/Code/glm-cookbook/venv/lib/python3.9/site-packages (from llama-index-core==0.10.51->llama-index<0.11.0,>=0.10.44->GeneralAgent<0.4.0,>=0.3.13->gptpdf) (0.0.6)\r\n",
      "Requirement already satisfied: nest-asyncio<2.0.0,>=1.5.8 in /Users/zr/Code/glm-cookbook/venv/lib/python3.9/site-packages (from llama-index-core==0.10.51->llama-index<0.11.0,>=0.10.44->GeneralAgent<0.4.0,>=0.3.13->gptpdf) (1.6.0)\r\n",
      "Requirement already satisfied: networkx>=3.0 in /Users/zr/Code/glm-cookbook/venv/lib/python3.9/site-packages (from llama-index-core==0.10.51->llama-index<0.11.0,>=0.10.44->GeneralAgent<0.4.0,>=0.3.13->gptpdf) (3.2.1)\r\n",
      "Requirement already satisfied: nltk<4.0.0,>=3.8.1 in /Users/zr/Code/glm-cookbook/venv/lib/python3.9/site-packages (from llama-index-core==0.10.51->llama-index<0.11.0,>=0.10.44->GeneralAgent<0.4.0,>=0.3.13->gptpdf) (3.8.1)\r\n",
      "Requirement already satisfied: pandas in /Users/zr/Code/glm-cookbook/venv/lib/python3.9/site-packages (from llama-index-core==0.10.51->llama-index<0.11.0,>=0.10.44->GeneralAgent<0.4.0,>=0.3.13->gptpdf) (2.2.0)\r\n",
      "Requirement already satisfied: pillow>=9.0.0 in /Users/zr/Code/glm-cookbook/venv/lib/python3.9/site-packages (from llama-index-core==0.10.51->llama-index<0.11.0,>=0.10.44->GeneralAgent<0.4.0,>=0.3.13->gptpdf) (10.2.0)\r\n",
      "Requirement already satisfied: tenacity!=8.4.0,<9.0.0,>=8.2.0 in /Users/zr/Code/glm-cookbook/venv/lib/python3.9/site-packages (from llama-index-core==0.10.51->llama-index<0.11.0,>=0.10.44->GeneralAgent<0.4.0,>=0.3.13->gptpdf) (8.2.3)\r\n",
      "Requirement already satisfied: tqdm<5.0.0,>=4.66.1 in /Users/zr/Code/glm-cookbook/venv/lib/python3.9/site-packages (from llama-index-core==0.10.51->llama-index<0.11.0,>=0.10.44->GeneralAgent<0.4.0,>=0.3.13->gptpdf) (4.66.1)\r\n",
      "Requirement already satisfied: typing-extensions>=4.5.0 in /Users/zr/Code/glm-cookbook/venv/lib/python3.9/site-packages (from llama-index-core==0.10.51->llama-index<0.11.0,>=0.10.44->GeneralAgent<0.4.0,>=0.3.13->gptpdf) (4.9.0)\r\n",
      "Requirement already satisfied: typing-inspect>=0.8.0 in /Users/zr/Code/glm-cookbook/venv/lib/python3.9/site-packages (from llama-index-core==0.10.51->llama-index<0.11.0,>=0.10.44->GeneralAgent<0.4.0,>=0.3.13->gptpdf) (0.9.0)\r\n",
      "Requirement already satisfied: wrapt in /Users/zr/Code/glm-cookbook/venv/lib/python3.9/site-packages (from llama-index-core==0.10.51->llama-index<0.11.0,>=0.10.44->GeneralAgent<0.4.0,>=0.3.13->gptpdf) (1.16.0)\r\n",
      "Requirement already satisfied: anyio<5,>=3.5.0 in /Users/zr/Code/glm-cookbook/venv/lib/python3.9/site-packages (from openai<2.0.0,>=1.3.3->GeneralAgent<0.4.0,>=0.3.13->gptpdf) (4.2.0)\r\n",
      "Requirement already satisfied: distro<2,>=1.7.0 in /Users/zr/Code/glm-cookbook/venv/lib/python3.9/site-packages (from openai<2.0.0,>=1.3.3->GeneralAgent<0.4.0,>=0.3.13->gptpdf) (1.9.0)\r\n",
      "Requirement already satisfied: pydantic<3,>=1.9.0 in /Users/zr/Code/glm-cookbook/venv/lib/python3.9/site-packages (from openai<2.0.0,>=1.3.3->GeneralAgent<0.4.0,>=0.3.13->gptpdf) (2.5.3)\r\n",
      "Requirement already satisfied: sniffio in /Users/zr/Code/glm-cookbook/venv/lib/python3.9/site-packages (from openai<2.0.0,>=1.3.3->GeneralAgent<0.4.0,>=0.3.13->gptpdf) (1.3.0)\r\n",
      "Requirement already satisfied: charset-normalizer<4,>=2 in /Users/zr/Code/glm-cookbook/venv/lib/python3.9/site-packages (from requests<3.0.0,>=2.31.0->GeneralAgent<0.4.0,>=0.3.13->gptpdf) (3.3.2)\r\n",
      "Requirement already satisfied: idna<4,>=2.5 in /Users/zr/Code/glm-cookbook/venv/lib/python3.9/site-packages (from requests<3.0.0,>=2.31.0->GeneralAgent<0.4.0,>=0.3.13->gptpdf) (3.6)\r\n",
      "Requirement already satisfied: urllib3<3,>=1.21.1 in /Users/zr/Code/glm-cookbook/venv/lib/python3.9/site-packages (from requests<3.0.0,>=2.31.0->GeneralAgent<0.4.0,>=0.3.13->gptpdf) (2.2.0)\r\n",
      "Requirement already satisfied: certifi>=2017.4.17 in /Users/zr/Code/glm-cookbook/venv/lib/python3.9/site-packages (from requests<3.0.0,>=2.31.0->GeneralAgent<0.4.0,>=0.3.13->gptpdf) (2023.11.17)\r\n",
      "Requirement already satisfied: regex>=2022.1.18 in /Users/zr/Code/glm-cookbook/venv/lib/python3.9/site-packages (from tiktoken<0.6.0,>=0.5.1->GeneralAgent<0.4.0,>=0.3.13->gptpdf) (2023.12.25)\r\n",
      "Requirement already satisfied: exceptiongroup>=1.0.2 in /Users/zr/Code/glm-cookbook/venv/lib/python3.9/site-packages (from anyio<5,>=3.5.0->openai<2.0.0,>=1.3.3->GeneralAgent<0.4.0,>=0.3.13->gptpdf) (1.2.0)\r\n",
      "Requirement already satisfied: httpcore==1.* in /Users/zr/Code/glm-cookbook/venv/lib/python3.9/site-packages (from httpx->llama-index-core==0.10.51->llama-index<0.11.0,>=0.10.44->GeneralAgent<0.4.0,>=0.3.13->gptpdf) (1.0.5)\r\n",
      "Requirement already satisfied: h11<0.15,>=0.13 in /Users/zr/Code/glm-cookbook/venv/lib/python3.9/site-packages (from httpcore==1.*->httpx->llama-index-core==0.10.51->llama-index<0.11.0,>=0.10.44->GeneralAgent<0.4.0,>=0.3.13->gptpdf) (0.14.0)\r\n",
      "Requirement already satisfied: beautifulsoup4<5.0.0,>=4.12.3 in /Users/zr/Code/glm-cookbook/venv/lib/python3.9/site-packages (from llama-index-readers-file<0.2.0,>=0.1.4->llama-index<0.11.0,>=0.10.44->GeneralAgent<0.4.0,>=0.3.13->gptpdf) (4.12.3)\r\n",
      "Requirement already satisfied: pypdf<5.0.0,>=4.0.1 in /Users/zr/Code/glm-cookbook/venv/lib/python3.9/site-packages (from llama-index-readers-file<0.2.0,>=0.1.4->llama-index<0.11.0,>=0.10.44->GeneralAgent<0.4.0,>=0.3.13->gptpdf) (4.2.0)\r\n",
      "Requirement already satisfied: striprtf<0.0.27,>=0.0.26 in /Users/zr/Code/glm-cookbook/venv/lib/python3.9/site-packages (from llama-index-readers-file<0.2.0,>=0.1.4->llama-index<0.11.0,>=0.10.44->GeneralAgent<0.4.0,>=0.3.13->gptpdf) (0.0.26)\r\n",
      "Requirement already satisfied: llama-parse<0.5.0,>=0.4.0 in /Users/zr/Code/glm-cookbook/venv/lib/python3.9/site-packages (from llama-index-readers-llama-parse<0.2.0,>=0.1.2->llama-index<0.11.0,>=0.10.44->GeneralAgent<0.4.0,>=0.3.13->gptpdf) (0.4.5)\r\n",
      "Requirement already satisfied: annotated-types>=0.4.0 in /Users/zr/Code/glm-cookbook/venv/lib/python3.9/site-packages (from pydantic<3,>=1.9.0->openai<2.0.0,>=1.3.3->GeneralAgent<0.4.0,>=0.3.13->gptpdf) (0.6.0)\r\n",
      "Requirement already satisfied: pydantic-core==2.14.6 in /Users/zr/Code/glm-cookbook/venv/lib/python3.9/site-packages (from pydantic<3,>=1.9.0->openai<2.0.0,>=1.3.3->GeneralAgent<0.4.0,>=0.3.13->gptpdf) (2.14.6)\r\n",
      "Requirement already satisfied: aiosignal>=1.1.2 in /Users/zr/Code/glm-cookbook/venv/lib/python3.9/site-packages (from aiohttp<4.0.0,>=3.8.6->llama-index-core==0.10.51->llama-index<0.11.0,>=0.10.44->GeneralAgent<0.4.0,>=0.3.13->gptpdf) (1.3.1)\r\n",
      "Requirement already satisfied: attrs>=17.3.0 in /Users/zr/Code/glm-cookbook/venv/lib/python3.9/site-packages (from aiohttp<4.0.0,>=3.8.6->llama-index-core==0.10.51->llama-index<0.11.0,>=0.10.44->GeneralAgent<0.4.0,>=0.3.13->gptpdf) (23.2.0)\r\n",
      "Requirement already satisfied: frozenlist>=1.1.1 in /Users/zr/Code/glm-cookbook/venv/lib/python3.9/site-packages (from aiohttp<4.0.0,>=3.8.6->llama-index-core==0.10.51->llama-index<0.11.0,>=0.10.44->GeneralAgent<0.4.0,>=0.3.13->gptpdf) (1.4.1)\r\n",
      "Requirement already satisfied: multidict<7.0,>=4.5 in /Users/zr/Code/glm-cookbook/venv/lib/python3.9/site-packages (from aiohttp<4.0.0,>=3.8.6->llama-index-core==0.10.51->llama-index<0.11.0,>=0.10.44->GeneralAgent<0.4.0,>=0.3.13->gptpdf) (6.0.4)\r\n",
      "Requirement already satisfied: yarl<2.0,>=1.0 in /Users/zr/Code/glm-cookbook/venv/lib/python3.9/site-packages (from aiohttp<4.0.0,>=3.8.6->llama-index-core==0.10.51->llama-index<0.11.0,>=0.10.44->GeneralAgent<0.4.0,>=0.3.13->gptpdf) (1.9.4)\r\n",
      "Requirement already satisfied: async-timeout<5.0,>=4.0 in /Users/zr/Code/glm-cookbook/venv/lib/python3.9/site-packages (from aiohttp<4.0.0,>=3.8.6->llama-index-core==0.10.51->llama-index<0.11.0,>=0.10.44->GeneralAgent<0.4.0,>=0.3.13->gptpdf) (4.0.3)\r\n",
      "Requirement already satisfied: soupsieve>1.2 in /Users/zr/Code/glm-cookbook/venv/lib/python3.9/site-packages (from beautifulsoup4<5.0.0,>=4.12.3->llama-index-readers-file<0.2.0,>=0.1.4->llama-index<0.11.0,>=0.10.44->GeneralAgent<0.4.0,>=0.3.13->gptpdf) (2.5)\r\n",
      "Requirement already satisfied: click in /Users/zr/Code/glm-cookbook/venv/lib/python3.9/site-packages (from nltk<4.0.0,>=3.8.1->llama-index-core==0.10.51->llama-index<0.11.0,>=0.10.44->GeneralAgent<0.4.0,>=0.3.13->gptpdf) (8.1.7)\r\n",
      "Requirement already satisfied: joblib in /Users/zr/Code/glm-cookbook/venv/lib/python3.9/site-packages (from nltk<4.0.0,>=3.8.1->llama-index-core==0.10.51->llama-index<0.11.0,>=0.10.44->GeneralAgent<0.4.0,>=0.3.13->gptpdf) (1.3.2)\r\n",
      "Requirement already satisfied: greenlet!=0.4.17 in /Users/zr/Code/glm-cookbook/venv/lib/python3.9/site-packages (from SQLAlchemy[asyncio]>=1.4.49->llama-index-core==0.10.51->llama-index<0.11.0,>=0.10.44->GeneralAgent<0.4.0,>=0.3.13->gptpdf) (3.0.3)\r\n",
      "Requirement already satisfied: mypy-extensions>=0.3.0 in /Users/zr/Code/glm-cookbook/venv/lib/python3.9/site-packages (from typing-inspect>=0.8.0->llama-index-core==0.10.51->llama-index<0.11.0,>=0.10.44->GeneralAgent<0.4.0,>=0.3.13->gptpdf) (1.0.0)\r\n",
      "Requirement already satisfied: marshmallow<4.0.0,>=3.18.0 in /Users/zr/Code/glm-cookbook/venv/lib/python3.9/site-packages (from dataclasses-json->llama-index-core==0.10.51->llama-index<0.11.0,>=0.10.44->GeneralAgent<0.4.0,>=0.3.13->gptpdf) (3.20.2)\r\n",
      "Requirement already satisfied: python-dateutil>=2.8.2 in /Users/zr/Code/glm-cookbook/venv/lib/python3.9/site-packages (from pandas->llama-index-core==0.10.51->llama-index<0.11.0,>=0.10.44->GeneralAgent<0.4.0,>=0.3.13->gptpdf) (2.8.2)\r\n",
      "Requirement already satisfied: pytz>=2020.1 in /Users/zr/Code/glm-cookbook/venv/lib/python3.9/site-packages (from pandas->llama-index-core==0.10.51->llama-index<0.11.0,>=0.10.44->GeneralAgent<0.4.0,>=0.3.13->gptpdf) (2023.3.post1)\r\n",
      "Requirement already satisfied: tzdata>=2022.7 in /Users/zr/Code/glm-cookbook/venv/lib/python3.9/site-packages (from pandas->llama-index-core==0.10.51->llama-index<0.11.0,>=0.10.44->GeneralAgent<0.4.0,>=0.3.13->gptpdf) (2023.4)\r\n",
      "Requirement already satisfied: packaging>=17.0 in /Users/zr/Code/glm-cookbook/venv/lib/python3.9/site-packages (from marshmallow<4.0.0,>=3.18.0->dataclasses-json->llama-index-core==0.10.51->llama-index<0.11.0,>=0.10.44->GeneralAgent<0.4.0,>=0.3.13->gptpdf) (23.2)\r\n",
      "Requirement already satisfied: six>=1.5 in /Users/zr/Code/glm-cookbook/venv/lib/python3.9/site-packages (from python-dateutil>=2.8.2->pandas->llama-index-core==0.10.51->llama-index<0.11.0,>=0.10.44->GeneralAgent<0.4.0,>=0.3.13->gptpdf) (1.16.0)\r\n",
      "\u001B[33mDEPRECATION: textract 1.6.5 has a non-standard dependency specifier extract-msg<=0.29.*. pip 24.1 will enforce this behaviour change. A possible replacement is to upgrade to a newer version of textract or contact the author to suggest that they release a version with a conforming dependency specifiers. Discussion can be found at https://github.com/pypa/pip/issues/12063\u001B[0m\u001B[33m\r\n",
      "\u001B[0m\r\n",
      "\u001B[1m[\u001B[0m\u001B[34;49mnotice\u001B[0m\u001B[1;39;49m]\u001B[0m\u001B[39;49m A new release of pip is available: \u001B[0m\u001B[31;49m24.0\u001B[0m\u001B[39;49m -> \u001B[0m\u001B[32;49m24.1.1\u001B[0m\r\n",
      "\u001B[1m[\u001B[0m\u001B[34;49mnotice\u001B[0m\u001B[1;39;49m]\u001B[0m\u001B[39;49m To update, run: \u001B[0m\u001B[32;49mpip install --upgrade pip\u001B[0m\r\n"
     ]
    }
   ],
   "execution_count": 1
  },
  {
   "metadata": {},
   "cell_type": "markdown",
   "source": [
    "# 2. Set environment variables and paths\n",
    "\n",
    "我们只需要设定 `OPENAI_API_BASE` 和 `OPENAI_API_KEY` 两个环境变量即可。这两个环境变量可以在 OpenAI 的网站上找到。然后，我们让其解析一个 PDF 文件。\n",
    "\n",
    "We only need to set two environment variables, `OPENAI_API_BASE` and `OPENAI_API` KEY. These two environment variables can be found on the OpenAI website. Then, we let it parse a PDF file."
   ],
   "id": "cc36eb127f95139f"
  },
  {
   "metadata": {
    "ExecuteTime": {
     "end_time": "2024-07-03T07:58:52.068006Z",
     "start_time": "2024-07-03T07:58:52.064112Z"
    }
   },
   "cell_type": "code",
   "source": [
    "import os\n",
    "from gptpdf import parse_pdf\n",
    "os.environ['OPENAI_API_KEY'] = 'your zhipu ai api key'\n",
    "os.environ['OPENAI_API_BASE'] = 'https://open.bigmodel.cn/api/paas/v4'\n",
    "pdf_path = 'data/chatglm.pdf'"
   ],
   "id": "bc5cdb6fba9db64e",
   "outputs": [],
   "execution_count": 6
  },
  {
   "metadata": {},
   "cell_type": "markdown",
   "source": [
    "# 3. Parse PDF\n",
    "\n",
    "接着，执行官方的例子，即可正常运行解析。官方代码中，如果将 `verbose` 设置为True，会不断输出中间的过程，内容很长，因此，我在这里设置为 `False`。\n",
    "\n",
    "Next, execute the official example, and the parsing will run normally. In the official code, if `verbose` is set to True, the intermediate process will be continuously output, and the content is very long. Therefore, I set it to `False` here.ß"
   ],
   "id": "bbb7efaf0985ae75"
  },
  {
   "metadata": {
    "ExecuteTime": {
     "end_time": "2024-07-03T08:03:42.737559Z",
     "start_time": "2024-07-03T08:02:53.856550Z"
    }
   },
   "cell_type": "code",
   "source": [
    "content, image_paths = parse_pdf(\n",
    "    pdf_path=pdf_path,\n",
    "    output_dir='data/gpt_pdf_output',\n",
    "    model=\"glm-4v\",\n",
    "    verbose=False,\n",
    "    gpt_worker=5,\n",
    ")"
   ],
   "id": "e9d68dedee220b2f",
   "outputs": [
    {
     "name": "stdout",
     "output_type": "stream",
     "text": [
      "parse page: 0\n",
      "parse page: 1\n",
      "parse page: 2\n",
      "parse page: 3\n",
      "parse page: 4\n",
      "parse page: 5\n",
      "parse page: 6\n",
      "parse page: 7\n",
      "parse page: 8\n",
      "parse page: 9\n",
      "parse page: 10\n",
      "parse page: 11\n",
      "parse page: 12\n",
      "parse page: 13\n",
      "parse page: 14\n",
      "parse page: 15\n",
      "parse page: 16\n",
      "parse page: 17\n",
      "parse page: 18\n",
      "gpt parse page: 0\n",
      "gpt parse page: 1\n",
      "gpt parse page: 2\n",
      "gpt parse page: 3\n",
      "gpt parse page: 4\n",
      "gpt parse page: 5\n",
      "gpt parse page: 6\n",
      "gpt parse page: 7\n",
      "gpt parse page: 8\n",
      "gpt parse page: 9\n",
      "gpt parse page: 10\n",
      "gpt parse page: 11\n",
      "gpt parse page: 12\n",
      "gpt parse page: 13\n",
      "gpt parse page: 14\n",
      "gpt parse page: 15\n",
      "gpt parse page: 16\n",
      "gpt parse page: 17\n",
      "gpt parse page: 18\n"
     ]
    }
   ],
   "execution_count": 11
  }
 ],
 "metadata": {
  "kernelspec": {
   "display_name": "Python 3",
   "language": "python",
   "name": "python3"
  },
  "language_info": {
   "codemirror_mode": {
    "name": "ipython",
    "version": 2
   },
   "file_extension": ".py",
   "mimetype": "text/x-python",
   "name": "python",
   "nbconvert_exporter": "python",
   "pygments_lexer": "ipython2",
   "version": "2.7.6"
  }
 },
 "nbformat": 4,
 "nbformat_minor": 5
}
