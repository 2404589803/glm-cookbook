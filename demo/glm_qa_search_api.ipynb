{
 "cells": [
  {
   "attachments": {},
   "cell_type": "markdown",
   "metadata": {},
   "source": [
    "# Using GLM Models to finish QA using a search API and re-ranking.\n",
    "\n",
    "**This tutorial is available in English and is attached below the Chinese explanation**\n",
    "\n",
    "本脚本参考了[OpenAI CookBook](https://github.com/openai/openai-cookbook/blob/main/examples/Question_answering_using_a_search_API.ipynb)的代码，并使用 GLM 系列模型实现同样的功能。\n",
    "\n",
    "**步骤 1：搜索**\n",
    "\n",
    "1. 用户提问。\n",
    "2. 由 GLM-4 生成潜在查询列表。\n",
    "3. 并行执行搜索查询。\n",
    "\n",
    "**步骤 2：重新排序**\n",
    "\n",
    "1. 使用每个结果的嵌入来计算与生成的用户问题理想答案的语义相似度。\n",
    "2. 基于这个相似度度量对结果进行排序和筛选。\n",
    "\n",
    "**步骤 3：回答**\n",
    "\n",
    "1. 给出最顶端的搜索结果，模型生成用户问题的答案，包括引用和链接。\n",
    "\n",
    "这种混合方法提供了相对较低的延迟，并且可以集成到任何现有的搜索端点中，而不需要维护一个向量数据库！我们将使用[News API](https://newsapi.org/)作为搜索领域的示例。\n",
    "\n",
    "This script refers to the code in [OpenAI CookBook](https://github.com/openai/openai-cookbook/blob/main/examples/Question_answering_using_a_search_API.ipynb) and implements the same functionality using the GLM family of models.\n",
    "\n",
    "**Step 1: Search**\n",
    "\n",
    "1. User asks a question.\n",
    "2. Generate a list of potential queries by GLM-4.\n",
    "3. Execute search queries in parallel.\n",
    "\n",
    "**Step 2: Rerank**\n",
    "\n",
    "1. Use the embedding of each result to calculate the semantic similarity with the generated ideal answer to the user's question.\n",
    "2. Sort and filter the results based on this similarity measure.\n",
    "\n",
    "**Step 3: Answer**\n",
    "\n",
    "1. Given the top search results, the model generates an answer to the user's question, including citations and links.\n",
    "\n",
    "This hybrid approach provides relatively low latency and can be integrated into any existing search endpoint without the need to maintain a vector database! We will use the [News API](https://newsapi.org/) as an example in the search domain."
   ]
  },
  {
   "cell_type": "code",
   "metadata": {
    "ExecuteTime": {
     "end_time": "2024-06-26T05:52:32.755914Z",
     "start_time": "2024-06-26T05:52:32.207436Z"
    }
   },
   "source": [
    "import json\n",
    "from numpy import dot\n",
    "import requests\n",
    "from tqdm.notebook import tqdm\n",
    "from openai import OpenAI\n",
    "\n",
    "client = OpenAI(\n",
    "    api_key=\"your ZhipuAI API keys\",\n",
    "    base_url=\"https://open.bigmodel.cn/api/paas/v4/\"\n",
    ")\n",
    "\n",
    "def json_glm(input: str):\n",
    "    completion = client.chat.completions.create(\n",
    "        model=\"glm-4-0520\",\n",
    "        messages=[\n",
    "            {\"role\": \"system\", \"content\": \"请你严格按照用户指令的要求执行，必须按照 JSON BLOB的格式输出\"},\n",
    "            {\"role\": \"user\", \"content\": input},\n",
    "        ],\n",
    "        temperature=0.5\n",
    "    )\n",
    "\n",
    "    text = completion.choices[0].message.content\n",
    "    json_content = text.strip().strip('```json').strip('```').strip()\n",
    "    parsed = json.loads(json_content)\n",
    "    return parsed\n"
   ],
   "outputs": [
    {
     "name": "stderr",
     "output_type": "stream",
     "text": [
      "/Users/zr/Code/glm-cookbook/venv/lib/python3.9/site-packages/urllib3/__init__.py:35: NotOpenSSLWarning: urllib3 v2 only supports OpenSSL 1.1.1+, currently the 'ssl' module is compiled with 'LibreSSL 2.8.3'. See: https://github.com/urllib3/urllib3/issues/3020\n",
      "  warnings.warn(\n"
     ]
    }
   ],
   "execution_count": 1
  },
  {
   "attachments": {},
   "cell_type": "markdown",
   "metadata": {},
   "source": [
    "## 1. 确定搜索的问题\n",
    "\n",
    "我们需要确定本次搜索的问题\n",
    "\n",
    "We need to determine the problem of this search"
   ]
  },
  {
   "cell_type": "code",
   "metadata": {
    "ExecuteTime": {
     "end_time": "2024-06-26T05:52:32.758446Z",
     "start_time": "2024-06-26T05:52:32.756949Z"
    }
   },
   "source": "USER_QUESTION = \"谁赢得了 NBA 总冠军？谁是 MVP？\"",
   "outputs": [],
   "execution_count": 2
  },
  {
   "attachments": {},
   "cell_type": "markdown",
   "metadata": {},
   "source": [
    "现在，为了尽可能详尽，我们使用该模型根据这个问题生成一个多样化的查询列表。\n",
    "\n",
    "Now, in order to be as exhaustive as possible, we use the model to generate a list of diverse queries based on this question."
   ]
  },
  {
   "cell_type": "code",
   "metadata": {
    "ExecuteTime": {
     "end_time": "2024-06-26T05:52:36.055850Z",
     "start_time": "2024-06-26T05:52:32.758967Z"
    }
   },
   "source": [
    "QUERIES_INPUT = f\"\"\"\n",
    "您可以访问返回最新新闻文章的搜索 API。生成与此问题相关的搜索查询数组。使用相关关键字的变体进行查询，尽量尽可能通用。包括您能想到的尽可能多的查询，包括和排除术语。这是搜索的关键词例子：\n",
    "['keyword_1 keyword_2', 'keyword_1', 'keyword_2'] \n",
    "发挥创意。您包含的查询越多，找到相关结果的可能性就越大。最好使用英语进行搜索，因为这个网站需要使用英语的关键词。\n",
    "用户问题：{USER_QUESTION}\n",
    "返回格式：\n",
    "{{\"queries\": [\"query_1\", \"query_2\", \"query_3\"]}}\n",
    "请你严格按照返回格式的要求输出。\n",
    "\"\"\"\n",
    "\n",
    "queries = json_glm(QUERIES_INPUT)[\"queries\"]\n",
    "queries.append(USER_QUESTION)\n",
    "queries"
   ],
   "outputs": [
    {
     "data": {
      "text/plain": [
       "['NBA champions',\n",
       " 'NBA championship winner',\n",
       " 'NBA Finals MVP',\n",
       " 'NBA Finals winner',\n",
       " 'NBA championship 2023',\n",
       " 'NBA Finals MVP 2023',\n",
       " 'latest NBA champions',\n",
       " 'who won the NBA Finals',\n",
       " 'NBA Finals winner 2023',\n",
       " 'NBA MVP',\n",
       " 'NBA Finals most valuable player',\n",
       " '谁赢得了 NBA 总冠军？谁是 MVP？']"
      ]
     },
     "execution_count": 3,
     "metadata": {},
     "output_type": "execute_result"
    }
   ],
   "execution_count": 3
  },
  {
   "attachments": {},
   "cell_type": "markdown",
   "metadata": {},
   "source": [
    "## 2. Search\n",
    "\n",
    "接着，我们运行搜索。\n",
    "\n",
    "let's run the searches."
   ]
  },
  {
   "cell_type": "code",
   "metadata": {
    "ExecuteTime": {
     "end_time": "2024-06-26T05:52:51.416226Z",
     "start_time": "2024-06-26T05:52:36.057539Z"
    }
   },
   "source": [
    "def search_news(\n",
    "        query: str,\n",
    "        news_api_key: str,\n",
    "        num_articles: int = 50,\n",
    "        from_datetime: str = \"2024-06-25\",\n",
    "        to_datetime: str = \"2024-06-26\",\n",
    ") -> dict:\n",
    "    response = requests.get(\n",
    "        \"https://newsapi.org/v2/everything\",\n",
    "        params={\n",
    "            \"q\": query,\n",
    "            \"apiKey\": news_api_key,\n",
    "            \"pageSize\": num_articles,\n",
    "            \"sortBy\": \"relevancy\",\n",
    "            \"from\": from_datetime,\n",
    "            \"to\": to_datetime,\n",
    "        },\n",
    "    )\n",
    "\n",
    "    return response.json()\n",
    "\n",
    "\n",
    "articles = []\n",
    "\n",
    "for query in tqdm(queries):\n",
    "    result = search_news(query=query, news_api_key=\"your newsapi.org key\")\n",
    "    if result[\"status\"] == \"ok\":\n",
    "        articles = articles + result[\"articles\"]\n",
    "    else:\n",
    "        raise Exception(result[\"message\"])\n",
    "\n",
    "# remove duplicates\n",
    "articles = list({article[\"url\"]: article for article in articles}.values())\n",
    "\n",
    "print(\"Total number of articles:\", len(articles))\n",
    "print(\"Top 5 articles of query 1:\", \"\\n\")\n",
    "\n",
    "for article in articles[0:5]:\n",
    "    print(\"Title:\", article[\"title\"])\n",
    "    print(\"Description:\", article[\"description\"])\n",
    "    print(\"Content:\", article[\"content\"][0:100] + \"...\")\n",
    "    print()\n"
   ],
   "outputs": [
    {
     "data": {
      "text/plain": [
       "  0%|          | 0/12 [00:00<?, ?it/s]"
      ],
      "application/vnd.jupyter.widget-view+json": {
       "version_major": 2,
       "version_minor": 0,
       "model_id": "776950977bbf4e828731fad9c32fef67"
      }
     },
     "metadata": {},
     "output_type": "display_data"
    },
    {
     "name": "stdout",
     "output_type": "stream",
     "text": [
      "Total number of articles: 16\n",
      "Top 5 articles of query 1: \n",
      "\n",
      "Title: Panthers Thrill NHL Fans in Game 7 Win vs. McDavid, Oilers to Clinch 1st Stanley Cup\n",
      "Description: You can finally exhale, Florida Panthers fans. Florida not only avoided blowing a 3-0 lead to Connor McDavid and the Edmonton Oilers with Monday's 2-1 victory…\n",
      "Content: Peter Joneleit/Icon Sportswire via Getty Images\r\n",
      "You can finally exhale, Florida Panthers fans.\r\n",
      "Flo...\n",
      "\n",
      "Title: Jason Tatum and Matthew Tkachuk were high school friends, now they’re both champions\n",
      "Description: The Celtics and the Panthers winning the NBA and NHL titles means these BFFs have PLENTY to celebrate.\n",
      "Content: The Celtics and the Panthers winning the NBA and NHL titles means these BFFs have PLENTY to celebrat...\n",
      "\n",
      "Title: NBA playoff parity gives Dunleavy confidence in Warriors' title return\n",
      "Description: Mike Dunleavy is confident the Warriors will have a chance to compete for a championship next season after watching the 2024 NBA playoffs.\n",
      "Content: NBA playoff parity gives Dunleavy confidence in Warriors' title return originally appeared on NBC Sp...\n",
      "\n",
      "Title: Red Sox honor Celtics at Fenway Park for championship, express hopes for a celebration of their own\n",
      "Description: The Red Sox watched the Celtics win and then parade through Boston while on a road trip. “Basketball is cool,” Triston Casas said. “But ain’t nothin’ like a Red Sox parade.”\n",
      "Content: Fenway Park became the latest stop on the Celtics celebration tour Monday night.\r\n",
      "One week to the da...\n",
      "\n",
      "Title: The Florida Panthers' three-decade journey from NHL punch line to Stanley Cup champ\n",
      "Description: After 30 years of failure and frustration, the Panthers are now a prestige franchise. Here's how it all transpired, and how they build from here.\n",
      "Content: SUNRISE, Fla. -- Aleksander Barkov didn't just lift the Stanley Cup after defeating the Oilers in Ga...\n",
      "\n"
     ]
    }
   ],
   "execution_count": 4
  },
  {
   "attachments": {},
   "cell_type": "markdown",
   "metadata": {},
   "source": [
    "我们可以看到，搜索查询通常会返回大量结果，其中许多结果与用户提出的原始问题无关。为了提高最终答案的质量，我们使用嵌入来重新排序和过滤结果。\n",
    "\n",
    "As we can see, oftentimes, the search queries will return a large number of results, many of which are not relevant to the original question asked by the user. In order to improve the quality of the final answer, we use embeddings to re-rank and filter the results.\n",
    "\n",
    "## 3. Re-rank\n",
    "\n",
    "我们首先生成一个假设的理想答案，然后重新排序并与结果进行比较。这有助于优先考虑看起来像好答案的结果，而不是与我们的问题相似的结果。这是我们用来生成假设答案的提示。\n",
    "\n",
    "We first generate a hypothetical ideal answer to rerank our compare our results against. This helps prioritize results that look like good answers, rather than those similar to our question. Here’s the prompt we use to generate our hypothetical answer.\n"
   ]
  },
  {
   "cell_type": "code",
   "metadata": {
    "ExecuteTime": {
     "end_time": "2024-06-26T05:52:52.889896Z",
     "start_time": "2024-06-26T05:52:51.428073Z"
    }
   },
   "source": [
    "HA_INPUT = f\"\"\"\n",
    "为用户的问题生成一个假设答案。此答案将用于对搜索结果进行排名。假装您拥有回答所需的所有信息，但不要使用任何实际事实。相反，使用占位符例如 NAME 做了某事，或 NAME 在 PLACE 说了某事，请你用英语来输出。\n",
    "用户问题: {USER_QUESTION}\n",
    "格式要求: {{\"hypotheticalAnswer\": \"hypothetical answer text\"}}\n",
    "\"\"\"\n",
    "hypothetical_answer = json_glm(HA_INPUT)[\"hypotheticalAnswer\"]\n",
    "hypothetical_answer"
   ],
   "outputs": [
    {
     "data": {
      "text/plain": [
       "'TEAM won the NBA Championship, and PLAYER was named MVP.'"
      ]
     },
     "execution_count": 5,
     "metadata": {},
     "output_type": "execute_result"
    }
   ],
   "execution_count": 5
  },
  {
   "attachments": {},
   "cell_type": "markdown",
   "metadata": {},
   "source": [
    "现在，让我们为搜索结果和假设答案生成嵌入。然后我们计算这些嵌入之间的余弦距离，从而得到一个语义相似度指标。请注意，我们可以简单地计算点积，而不必进行完整的余弦相似度计算，因为 OpenAI 嵌入在我们的 API 中是经过归一化的。\n",
    "\n",
    "Now, let's generate embeddings for the search results and the hypothetical answer. We then calculate the cosine distance between these embeddings, giving us a semantic similarity metric. Note that we can simply calculate the dot product in lieu of doing a full cosine similarity calculation since the OpenAI embeddings are returned normalized in our API.\n"
   ]
  },
  {
   "cell_type": "code",
   "metadata": {
    "ExecuteTime": {
     "end_time": "2024-06-26T05:52:53.009627Z",
     "start_time": "2024-06-26T05:52:52.892658Z"
    }
   },
   "source": [
    "def embeddings(input: list[str]) -> list[list[str]]:\n",
    "    response = client.embeddings.create(model=\"embedding-2\", input=input)\n",
    "    return [data.embedding for data in response.data]\n",
    "\n",
    "\n",
    "hypothetical_answer_embedding = embeddings(hypothetical_answer)[0]\n",
    "articles_list = [f\"{article['title']} {article['description']} {article['content'][0:100]}\" for article in articles]\n",
    "articles_list[0:10]"
   ],
   "outputs": [
    {
     "data": {
      "text/plain": [
       "[\"Panthers Thrill NHL Fans in Game 7 Win vs. McDavid, Oilers to Clinch 1st Stanley Cup You can finally exhale, Florida Panthers fans. Florida not only avoided blowing a 3-0 lead to Connor McDavid and the Edmonton Oilers with Monday's 2-1 victory… Peter Joneleit/Icon Sportswire via Getty Images\\r\\nYou can finally exhale, Florida Panthers fans.\\r\\nFlo\",\n",
       " 'Jason Tatum and Matthew Tkachuk were high school friends, now they’re both champions The Celtics and the Panthers winning the NBA and NHL titles means these BFFs have PLENTY to celebrate. The Celtics and the Panthers winning the NBA and NHL titles means these BFFs have PLENTY to celebrat',\n",
       " \"NBA playoff parity gives Dunleavy confidence in Warriors' title return Mike Dunleavy is confident the Warriors will have a chance to compete for a championship next season after watching the 2024 NBA playoffs. NBA playoff parity gives Dunleavy confidence in Warriors' title return originally appeared on NBC Sp\",\n",
       " 'Red Sox honor Celtics at Fenway Park for championship, express hopes for a celebration of their own The Red Sox watched the Celtics win and then parade through Boston while on a road trip. “Basketball is cool,” Triston Casas said. “But ain’t nothin’ like a Red Sox parade.” Fenway Park became the latest stop on the Celtics celebration tour Monday night.\\r\\nOne week to the da',\n",
       " \"The Florida Panthers' three-decade journey from NHL punch line to Stanley Cup champ After 30 years of failure and frustration, the Panthers are now a prestige franchise. Here's how it all transpired, and how they build from here. SUNRISE, Fla. -- Aleksander Barkov didn't just lift the Stanley Cup after defeating the Oilers in Ga\",\n",
       " 'Jayson Tatum and Matthew Tkachuk were high school friends, now they’re both champions The Celtics and the Panthers winning the NBA and NHL titles means these BFFs have PLENTY to celebrate. The Celtics and the Panthers winning the NBA and NHL titles means these BFFs have PLENTY to celebrat',\n",
       " 'JJ Redick understands why Dan Hurley was Lakers first choice The Los Angeles Lakers introduced JJ Redick as their new head coach on Monday, his 40th birthday. The announcement came after an intense courtship of University of Connecticut&apos The Los Angeles Lakers introduced JJ Redick as their new head coach on Monday, his 40th birthday. Th',\n",
       " \"NBA champion Celtics throw out first pitch before Red Sox game Jayson Tatum, Jaylen Brown, and the Celtics were on hand to throw out the first pitch before the Red Sox' game at Fenway Park Monday. Celtics\\r\\nJayson Tatum delivered a first pitch at Fenway Park on Monday. (Photo by Brian Fluharty/Get\",\n",
       " 'Stanley Cup Finals: Florida Panthers win Game 7 to capture first title The Florida Panthers won their first Stanley Cup on Monday night, defeating the Edmonton Oilers 2-1 in Game 7 and avoiding what would have been a historic collapse. SUNRISE, Fla. — The Florida Panthers won their first Stanley Cup on Monday night, defeating the Edmo',\n",
       " 'Game 7 etc. open thread: someone will make the worst kind of history The Florida Panthers had a 3-0 lead in the Stanley Cup finals, and then this appeared: The Panthers have been outscored 17-5 since this whatever you call stuff that appears on Truth Social appeared. Good preview of what a second term would look like. The firs… The Florida Panthers had a 3-0 lead in the Stanley Cup finals, and then this appeared:\\r\\nThe Panthers']"
      ]
     },
     "execution_count": 6,
     "metadata": {},
     "output_type": "execute_result"
    }
   ],
   "execution_count": 6
  },
  {
   "metadata": {
    "ExecuteTime": {
     "end_time": "2024-06-26T05:52:53.267858Z",
     "start_time": "2024-06-26T05:52:53.010773Z"
    }
   },
   "cell_type": "code",
   "source": [
    "article_embeddings = embeddings(articles_list)\n",
    "\n",
    "# Calculate cosine similarity\n",
    "cosine_similarities = []\n",
    "for article_embedding in article_embeddings:\n",
    "    cosine_similarities.append(dot(hypothetical_answer_embedding, article_embedding))\n",
    "cosine_similarities[0:10]"
   ],
   "outputs": [
    {
     "data": {
      "text/plain": [
       "[0.4157394961088908,\n",
       " 0.5116303590995759,\n",
       " 0.44501031185827594,\n",
       " 0.469290430808307,\n",
       " 0.446827633695725,\n",
       " 0.5052495840107389,\n",
       " 0.41411032641360235,\n",
       " 0.42188560268752007,\n",
       " 0.4470155901597918,\n",
       " 0.47972604502479255]"
      ]
     },
     "execution_count": 7,
     "metadata": {},
     "output_type": "execute_result"
    }
   ],
   "execution_count": 7
  },
  {
   "attachments": {},
   "cell_type": "markdown",
   "metadata": {},
   "source": [
    "## 4. Using the similarity scores to re-rank the results\n",
    "\n",
    "最后，我们使用这些相似度分数对结果进行排序和筛选。\n",
    "\n",
    "Finally, we use these similarity scores to sort and filter the results.\n"
   ]
  },
  {
   "cell_type": "code",
   "metadata": {
    "ExecuteTime": {
     "end_time": "2024-06-26T05:52:53.271853Z",
     "start_time": "2024-06-26T05:52:53.268681Z"
    }
   },
   "source": [
    "scored_articles = zip(articles, cosine_similarities)\n",
    "\n",
    "# Sort articles by cosine similarity\n",
    "sorted_articles = sorted(scored_articles, key=lambda x: x[1], reverse=True)\n",
    "\n",
    "# Print top 5 articles\n",
    "print(\"Top 5 articles:\", \"\\n\")\n",
    "\n",
    "for article, score in sorted_articles[0:5]:\n",
    "    print(\"Title:\", article[\"title\"])\n",
    "    print(\"Description:\", article[\"description\"])\n",
    "    print(\"Content:\", article[\"content\"][0:100] + \"...\")\n",
    "    print(\"Score:\", score)\n",
    "    print()\n"
   ],
   "outputs": [
    {
     "name": "stdout",
     "output_type": "stream",
     "text": [
      "Top 5 articles: \n",
      "\n",
      "Title: Jason Tatum and Matthew Tkachuk were high school friends, now they’re both champions\n",
      "Description: The Celtics and the Panthers winning the NBA and NHL titles means these BFFs have PLENTY to celebrate.\n",
      "Content: The Celtics and the Panthers winning the NBA and NHL titles means these BFFs have PLENTY to celebrat...\n",
      "Score: 0.5116303590995759\n",
      "\n",
      "Title: Jayson Tatum and Matthew Tkachuk were high school friends, now they’re both champions\n",
      "Description: The Celtics and the Panthers winning the NBA and NHL titles means these BFFs have PLENTY to celebrate.\n",
      "Content: The Celtics and the Panthers winning the NBA and NHL titles means these BFFs have PLENTY to celebrat...\n",
      "Score: 0.5052495840107389\n",
      "\n",
      "Title: Game 7 etc. open thread: someone will make the worst kind of history\n",
      "Description: The Florida Panthers had a 3-0 lead in the Stanley Cup finals, and then this appeared: The Panthers have been outscored 17-5 since this whatever you call stuff that appears on Truth Social appeared. Good preview of what a second term would look like. The firs…\n",
      "Content: The Florida Panthers had a 3-0 lead in the Stanley Cup finals, and then this appeared:\r\n",
      "The Panthers...\n",
      "Score: 0.47972604502479255\n",
      "\n",
      "Title: Red Sox honor Celtics at Fenway Park for championship, express hopes for a celebration of their own\n",
      "Description: The Red Sox watched the Celtics win and then parade through Boston while on a road trip. “Basketball is cool,” Triston Casas said. “But ain’t nothin’ like a Red Sox parade.”\n",
      "Content: Fenway Park became the latest stop on the Celtics celebration tour Monday night.\r\n",
      "One week to the da...\n",
      "Score: 0.469290430808307\n",
      "\n",
      "Title: Stanley Cup Final: Florida Panthers Outlast Oilers Comeback to Win First Championship\n",
      "Description: The Florida Panthers outlasted a 3-0 comeback from the Edmonton Oilers to secure the franchise's first Stanley Cup\n",
      "Content: After what was one of the most dramatic finishes in Stanley Cup history, the Florida Panthers staved...\n",
      "Score: 0.45288072136823765\n",
      "\n"
     ]
    }
   ],
   "execution_count": 8
  },
  {
   "attachments": {},
   "cell_type": "markdown",
   "metadata": {},
   "source": [
    "## 5. Get the answer\n",
    "\n",
    "最后，我们给出最顶端的搜索结果，模型生成用户问题的答案，包括引用和链接。\n",
    "\n",
    "Finally, given the top search results, the model generates an answer to the user's question, including citations and links.\n"
   ]
  },
  {
   "cell_type": "code",
   "metadata": {
    "ExecuteTime": {
     "end_time": "2024-06-26T05:53:00.101672Z",
     "start_time": "2024-06-26T05:52:53.272912Z"
    }
   },
   "source": [
    "formatted_top_results = [\n",
    "    {\n",
    "        \"title\": article[\"title\"],\n",
    "        \"description\": article[\"description\"],\n",
    "        \"url\": article[\"url\"],\n",
    "    }\n",
    "    for article, _score in sorted_articles[0:5]\n",
    "]\n",
    "\n",
    "ANSWER_INPUT = f\"\"\"\n",
    "根据给定的搜索结果生成用户问题的答案。\n",
    "TOP_RESULTS：{formatted_top_results}\n",
    "USER_QUESTION：{USER_QUESTION}\n",
    "在答案中包含尽可能多的信息。将相关搜索结果网址引用为 markdown 链接。用中文输出答案。\n",
    "\"\"\"\n",
    "\n",
    "completion = client.chat.completions.create(\n",
    "    model=\"glm-4-0520\",\n",
    "    messages=[{\"role\": \"user\", \"content\": ANSWER_INPUT}],\n",
    "    temperature=0.5,\n",
    "    stream=False,\n",
    ")\n",
    "completion.choices[0].message.content"
   ],
   "outputs": [
    {
     "data": {
      "text/plain": [
       "'根据搜索结果，NBA 总冠军是由波士顿凯尔特人队赢得的。不过，搜索结果中并没有提到谁是本次NBA总决赛的MVP。\\n\\n更多信息可以查看以下链接：[Jason Tatum 和 Matthew Tkachuk 是高中好友，现在他们都是冠军](https://www.sbnation.com/2024/6/24/24185383/jason-tatum-matthew-tkachuk-celtics-panthers-nba-nhl-champions) 和 [Jayson Tatum 和 Matthew Tkachuk 是高中好友，现在他们都是冠军](https://www.sbnation.com/2024/6/24/24185383/jayson-tatum-matthew-tkachuk-celtics-panthers-nba-nhl-champions)。\\n\\n如果您需要MVP的具体信息，可能需要进一步查找相关资料。'"
      ]
     },
     "execution_count": 9,
     "metadata": {},
     "output_type": "execute_result"
    }
   ],
   "execution_count": 9
  }
 ],
 "metadata": {
  "kernelspec": {
   "display_name": "Python 3",
   "language": "python",
   "name": "python3"
  },
  "language_info": {
   "codemirror_mode": {
    "name": "ipython",
    "version": 3
   },
   "file_extension": ".py",
   "mimetype": "text/x-python",
   "name": "python",
   "nbconvert_exporter": "python",
   "pygments_lexer": "ipython3",
   "version": "3.11.0"
  },
  "orig_nbformat": 4
 },
 "nbformat": 4,
 "nbformat_minor": 2
}
