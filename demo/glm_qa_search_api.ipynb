{
 "cells": [
  {
   "attachments": {},
   "cell_type": "markdown",
   "metadata": {},
   "source": [
    "# Using GLM Models to finish QA using a search API and re-ranking.\n",
    "\n",
    "**This tutorial is available in English and is attached below the Chinese explanation**\n",
    "\n",
    "本脚本参考了[OpenAI CookBook](https://github.com/openai/openai-cookbook/blob/main/examples/Question_answering_using_a_search_API.ipynb)的代码，并使用 GLM 系列模型实现同样的功能。\n",
    "\n",
    "**步骤 1：搜索**\n",
    "\n",
    "1. 用户提问。\n",
    "2. 由 GLM-4 生成潜在查询列表。\n",
    "3. 并行执行搜索查询。\n",
    "\n",
    "**步骤 2：重新排序**\n",
    "\n",
    "1. 使用每个结果的嵌入来计算与生成的用户问题理想答案的语义相似度。\n",
    "2. 基于这个相似度度量对结果进行排序和筛选。\n",
    "\n",
    "**步骤 3：回答**\n",
    "\n",
    "1. 给出最顶端的搜索结果，模型生成用户问题的答案，包括引用和链接。\n",
    "\n",
    "这种混合方法提供了相对较低的延迟，并且可以集成到任何现有的搜索端点中，而不需要维护一个向量数据库！我们将使用[News API](https://newsapi.org/)作为搜索领域的示例。\n",
    "\n",
    "This script refers to the code in [OpenAI CookBook](https://github.com/openai/openai-cookbook/blob/main/examples/Question_answering_using_a_search_API.ipynb) and implements the same functionality using the GLM family of models.\n",
    "\n",
    "**Step 1: Search**\n",
    "\n",
    "1. User asks a question.\n",
    "2. Generate a list of potential queries by GLM-4.\n",
    "3. Execute search queries in parallel.\n",
    "\n",
    "**Step 2: Rerank**\n",
    "\n",
    "1. Use the embedding of each result to calculate the semantic similarity with the generated ideal answer to the user's question.\n",
    "2. Sort and filter the results based on this similarity measure.\n",
    "\n",
    "**Step 3: Answer**\n",
    "\n",
    "1. Given the top search results, the model generates an answer to the user's question, including citations and links.\n",
    "\n",
    "This hybrid approach provides relatively low latency and can be integrated into any existing search endpoint without the need to maintain a vector database! We will use the [News API](https://newsapi.org/) as an example in the search domain."
   ]
  },
  {
   "metadata": {},
   "cell_type": "markdown",
   "source": [
    "## 1 . Setting the API keys\n",
    "\n",
    "首先，我们需要设置 API 密钥。这包括 [News API](https://newsapi.org/) 的 密匙 和 智谱AI API 的密匙。\n",
    "同时，我们设置好一个脚本，用于之情json格式的返回结果。\n",
    "\n",
    "First, we need to set the API keys. This includes the key for the [News API](https://newsapi.org/) and the key for the ZhipuAI API. We also set up a script to handle the return results in json format."
   ]
  },
  {
   "metadata": {},
   "cell_type": "code",
   "outputs": [],
   "execution_count": null,
   "source": [
    "api_key  = \"your zhipuAI API KEY\"\n",
    "news_api_key = \"your newsapi.org API KEY\""
   ]
  },
  {
   "cell_type": "code",
   "metadata": {
    "ExecuteTime": {
     "end_time": "2024-06-29T09:06:48.785722Z",
     "start_time": "2024-06-29T09:06:48.083087Z"
    }
   },
   "source": [
    "import json\n",
    "from numpy import dot\n",
    "import requests\n",
    "from tqdm.notebook import tqdm\n",
    "from openai import OpenAI\n",
    "\n",
    "client = OpenAI(\n",
    "    api_key=api_key,\n",
    "    base_url=\"https://open.bigmodel.cn/api/paas/v4/\"\n",
    ")\n",
    "\n",
    "def json_glm(input: str):\n",
    "    completion = client.chat.completions.create(\n",
    "        model=\"glm-4-0520\",\n",
    "        messages=[\n",
    "            {\"role\": \"system\", \"content\": \"请你严格按照用户指令的要求执行，必须按照 JSON BLOB的格式输出\"},\n",
    "            {\"role\": \"user\", \"content\": input},\n",
    "        ],\n",
    "        temperature=0.5\n",
    "    )\n",
    "\n",
    "    text = completion.choices[0].message.content\n",
    "    json_content = text.strip().strip('```json').strip('```').strip()\n",
    "    parsed = json.loads(json_content)\n",
    "    return parsed\n"
   ],
   "outputs": [
    {
     "name": "stderr",
     "output_type": "stream",
     "text": [
      "/Users/zr/Code/glm-cookbook/venv/lib/python3.9/site-packages/urllib3/__init__.py:35: NotOpenSSLWarning: urllib3 v2 only supports OpenSSL 1.1.1+, currently the 'ssl' module is compiled with 'LibreSSL 2.8.3'. See: https://github.com/urllib3/urllib3/issues/3020\n",
      "  warnings.warn(\n"
     ]
    }
   ],
   "execution_count": 1
  },
  {
   "attachments": {},
   "cell_type": "markdown",
   "metadata": {},
   "source": [
    "## 1. 确定搜索的问题\n",
    "\n",
    "我们需要确定本次搜索的问题\n",
    "\n",
    "We need to determine the problem of this search"
   ]
  },
  {
   "cell_type": "code",
   "metadata": {
    "ExecuteTime": {
     "end_time": "2024-06-29T09:06:48.788684Z",
     "start_time": "2024-06-29T09:06:48.786951Z"
    }
   },
   "source": "USER_QUESTION = \"今天美国总统大选的辩论情况\"",
   "outputs": [],
   "execution_count": 2
  },
  {
   "attachments": {},
   "cell_type": "markdown",
   "metadata": {},
   "source": [
    "现在，为了尽可能详尽，我们使用该模型根据这个问题生成一个多样化的查询列表。\n",
    "\n",
    "Now, in order to be as exhaustive as possible, we use the model to generate a list of diverse queries based on this question."
   ]
  },
  {
   "cell_type": "code",
   "metadata": {
    "ExecuteTime": {
     "end_time": "2024-06-29T09:06:52.033927Z",
     "start_time": "2024-06-29T09:06:48.789450Z"
    }
   },
   "source": [
    "QUERIES_INPUT = f\"\"\"\n",
    "您可以访问返回最新新闻文章的搜索 API。生成与此问题相关的搜索查询数组。使用相关关键字的变体进行查询，尽量尽可能通用。包括您能想到的尽可能多的查询，包括和排除术语。这是搜索的关键词例子：\n",
    "['keyword_1 keyword_2', 'keyword_1', 'keyword_2'] \n",
    "发挥创意。您包含的查询越多，找到相关结果的可能性就越大。最好使用英语进行搜索，因为这个网站需要使用英语的关键词。\n",
    "用户问题：{USER_QUESTION}\n",
    "返回格式：\n",
    "{{\"queries\": [\"query_1\", \"query_2\", \"query_3\"]}}\n",
    "请你严格按照返回格式的要求输出。\n",
    "\"\"\"\n",
    "\n",
    "queries = json_glm(QUERIES_INPUT)[\"queries\"]\n",
    "queries.append(USER_QUESTION)\n",
    "queries"
   ],
   "outputs": [
    {
     "data": {
      "text/plain": [
       "['President election debate today',\n",
       " '2023 presidential debate',\n",
       " \"today's presidential election debate\",\n",
       " 'President debate live',\n",
       " 'election 2023 debate',\n",
       " 'debate between presidential candidates',\n",
       " 'Presidential candidates debate today',\n",
       " 'latest presidential debate news',\n",
       " \"today's political debate\",\n",
       " 'President election 2023 debate',\n",
       " '今天美国总统大选的辩论情况']"
      ]
     },
     "execution_count": 3,
     "metadata": {},
     "output_type": "execute_result"
    }
   ],
   "execution_count": 3
  },
  {
   "attachments": {},
   "cell_type": "markdown",
   "metadata": {},
   "source": [
    "## 3. Search\n",
    "\n",
    "接着，我们运行搜索。\n",
    "\n",
    "let's run the searches."
   ]
  },
  {
   "cell_type": "code",
   "metadata": {
    "ExecuteTime": {
     "end_time": "2024-06-29T09:07:11.078591Z",
     "start_time": "2024-06-29T09:06:52.036185Z"
    }
   },
   "source": [
    "def search_news(\n",
    "        query: str,\n",
    "        news_api_key: str,\n",
    "        num_articles: int = 50,\n",
    "        from_datetime: str = \"2024-06-27\",\n",
    "        to_datetime: str = \"2024-06-29\",\n",
    ") -> dict:\n",
    "    response = requests.get(\n",
    "        \"https://newsapi.org/v2/everything\",\n",
    "        params={\n",
    "            \"q\": query,\n",
    "            \"apiKey\": news_api_key,\n",
    "            \"pageSize\": num_articles,\n",
    "            \"sortBy\": \"relevancy\",\n",
    "            \"from\": from_datetime,\n",
    "            \"to\": to_datetime,\n",
    "        },\n",
    "    )\n",
    "\n",
    "    return response.json()\n",
    "\n",
    "\n",
    "articles = []\n",
    "\n",
    "for query in tqdm(queries):\n",
    "    result = search_news(query=query, news_api_key=news_api_key)\n",
    "    if result[\"status\"] == \"ok\":\n",
    "        articles = articles + result[\"articles\"]\n",
    "    else:\n",
    "        raise Exception(result[\"message\"])\n",
    "\n",
    "# remove duplicates\n",
    "articles = list({article[\"url\"]: article for article in articles}.values())\n",
    "\n",
    "print(\"Total number of articles:\", len(articles))\n",
    "print(\"Top 5 articles of query 1:\", \"\\n\")\n",
    "\n",
    "for article in articles[0:5]:\n",
    "    print(\"Title:\", article[\"title\"])\n",
    "    print(\"Description:\", article[\"description\"])\n",
    "    print(\"Content:\", article[\"content\"][0:100] + \"...\")\n",
    "    print()\n"
   ],
   "outputs": [
    {
     "data": {
      "text/plain": [
       "  0%|          | 0/11 [00:00<?, ?it/s]"
      ],
      "application/vnd.jupyter.widget-view+json": {
       "version_major": 2,
       "version_minor": 0,
       "model_id": "670ef308f3a545f88cbc3de502d12de2"
      }
     },
     "metadata": {},
     "output_type": "display_data"
    },
    {
     "name": "stdout",
     "output_type": "stream",
     "text": [
      "Total number of articles: 263\n",
      "Top 5 articles of query 1: \n",
      "\n",
      "Title: The first US presidential debate will have some noticeable differences\n",
      "Description: It didn't come easy, and it won't feel quite the same, but we're getting our first US presidential debate tonight.\n",
      "Content: Chip Somodevilla/Getty; Scott Eisen/Getty Images; BI\r\n",
      "<ul><li>This post originally appeared in the I...\n",
      "\n",
      "Title: Kari Lake refused to debate Mark Lamb. Now I know why\n",
      "Description: Opinion: Mark Lamb is the Republican U.S. Senate candidate that Ruben Gallego doesn't want to face. Neither did Kari Lake.\n",
      "Content: There he stood on the debate stage, all by his lonesome.\r\n",
      "Pinal County Sheriff Mark Lamb, rocking a ...\n",
      "\n",
      "Title: Calls for Biden to Step Aside Are About to Get Deafening\n",
      "Description: The evening left Democratic insiders gobsmacked.\n",
      "Content: This article is part of The D.C. Brief, TIMEs politics newsletter. Sign up here to get stories like ...\n",
      "\n",
      "Title: Clash Of The Titans? Charlamagne Tha God On Biden Vs. Trump CNN Debate, Power Of Political Plain Speaking On ElectionLine Podcast\n",
      "Description: Editor’s note: It’s Debate Night in America and the Deadline ElectionLine podcast is kicking off our dawn to dusk coverage today of what is the first face-off this year between President Joe Biden and former president Donald Trump tonight on CNN and simulcast…\n",
      "Content: Editor’s note: It’s Debate Night in America and the Deadline ElectionLine podcast is kicking off our...\n",
      "\n",
      "Title: Joe Biden And Donald Trump Arrive In Atlanta For CNN Presidential Debate\n",
      "Description: President Joe Biden and former President Donald Trump have each arrived in Atlanta for this evening’s CNN debate, an event that many predicted would unravel when it was first announced last month. Biden arrived at about 3:15 p.m. ET, and greeted an entourage …\n",
      "Content: President Joe Biden and former President Donald Trump have each arrived in Atlanta for this evening’...\n",
      "\n"
     ]
    }
   ],
   "execution_count": 4
  },
  {
   "attachments": {},
   "cell_type": "markdown",
   "metadata": {},
   "source": [
    "我们可以看到，搜索查询通常会返回大量结果，其中许多结果与用户提出的原始问题无关。为了提高最终答案的质量，我们使用嵌入来重新排序和过滤结果。\n",
    "\n",
    "As we can see, oftentimes, the search queries will return a large number of results, many of which are not relevant to the original question asked by the user. In order to improve the quality of the final answer, we use embeddings to re-rank and filter the results.\n",
    "\n",
    "## 4. Re-rank\n",
    "\n",
    "我们首先生成一个假设的理想答案，然后重新排序并与结果进行比较。这有助于优先考虑看起来像好答案的结果，而不是与我们的问题相似的结果。这是我们用来生成假设答案的提示。\n",
    "\n",
    "We first generate a hypothetical ideal answer to rerank our compare our results against. This helps prioritize results that look like good answers, rather than those similar to our question. Here’s the prompt we use to generate our hypothetical answer.\n"
   ]
  },
  {
   "cell_type": "code",
   "metadata": {
    "ExecuteTime": {
     "end_time": "2024-06-29T09:07:13.596078Z",
     "start_time": "2024-06-29T09:07:11.083961Z"
    }
   },
   "source": [
    "HA_INPUT = f\"\"\"\n",
    "为用户的问题生成一个假设答案。此答案将用于对搜索结果进行排名。假装您拥有回答所需的所有信息，但不要使用任何实际事实。相反，使用占位符例如 NAME 做了某事，或 NAME 在 PLACE 说了某事，请你用英语来输出。\n",
    "用户问题: {USER_QUESTION}\n",
    "格式要求: {{\"hypotheticalAnswer\": \"hypothetical answer text\"}}\n",
    "\"\"\"\n",
    "hypothetical_answer = json_glm(HA_INPUT)[\"hypotheticalAnswer\"]\n",
    "hypothetical_answer"
   ],
   "outputs": [
    {
     "data": {
      "text/plain": [
       "'Today, during the presidential debate, Candidate NAME showcased strong arguments on the topic of ECONOMIC POLICY, while Opponent NAME emphasized their stance on FOREIGN POLICY. The debate took place at VENUE NAME, with Moderator NAME facilitating the discussion.'"
      ]
     },
     "execution_count": 5,
     "metadata": {},
     "output_type": "execute_result"
    }
   ],
   "execution_count": 5
  },
  {
   "attachments": {},
   "cell_type": "markdown",
   "metadata": {},
   "source": [
    "现在，让我们为搜索结果和假设答案生成嵌入。然后我们计算这些嵌入之间的余弦距离，从而得到一个语义相似度指标。请注意，我们可以简单地计算点积，而不必进行完整的余弦相似度计算，因为 OpenAI 嵌入在我们的 API 中是经过归一化的。\n",
    "\n",
    "Now, let's generate embeddings for the search results and the hypothetical answer. We then calculate the cosine distance between these embeddings, giving us a semantic similarity metric. Note that we can simply calculate the dot product in lieu of doing a full cosine similarity calculation since the OpenAI embeddings are returned normalized in our API.\n"
   ]
  },
  {
   "metadata": {
    "ExecuteTime": {
     "end_time": "2024-06-29T09:07:13.752059Z",
     "start_time": "2024-06-29T09:07:13.597957Z"
    }
   },
   "cell_type": "code",
   "source": [
    "def embeddings(input: list[str]) -> list[list[str]]:\n",
    "    response = client.embeddings.create(model=\"embedding-2\", input=input)\n",
    "    return [data.embedding for data in response.data]\n",
    "\n",
    "\n",
    "hypothetical_answer_embedding = embeddings(hypothetical_answer)[0]\n",
    "articles_list = [f\"{article['title']} {article['description']} {article['content'][0:100]}\" for article in articles]\n",
    "articles_list[0:10]"
   ],
   "outputs": [
    {
     "data": {
      "text/plain": [
       "[\"The first US presidential debate will have some noticeable differences It didn't come easy, and it won't feel quite the same, but we're getting our first US presidential debate tonight. Chip Somodevilla/Getty; Scott Eisen/Getty Images; BI\\r\\n<ul><li>This post originally appeared in the I\",\n",
       " \"Kari Lake refused to debate Mark Lamb. Now I know why Opinion: Mark Lamb is the Republican U.S. Senate candidate that Ruben Gallego doesn't want to face. Neither did Kari Lake. There he stood on the debate stage, all by his lonesome.\\r\\nPinal County Sheriff Mark Lamb, rocking a \",\n",
       " 'Calls for Biden to Step Aside Are About to Get Deafening The evening left Democratic insiders gobsmacked. This article is part of The D.C. Brief, TIMEs politics newsletter. Sign up here to get stories like ',\n",
       " 'Clash Of The Titans? Charlamagne Tha God On Biden Vs. Trump CNN Debate, Power Of Political Plain Speaking On ElectionLine Podcast Editor’s note:\\xa0It’s Debate Night in America and the\\xa0Deadline ElectionLine podcast\\xa0is kicking off our dawn to dusk coverage today of what is the first face-off this year between President Joe Biden and former president Donald Trump tonight on CNN and simulcast… Editor’s note:\\xa0It’s Debate Night in America and the\\xa0Deadline ElectionLine podcast\\xa0is kicking off our',\n",
       " 'Joe Biden And Donald Trump Arrive In Atlanta For CNN Presidential Debate President Joe Biden and former President Donald Trump have each arrived in Atlanta for this evening’s CNN debate, an event that many predicted would unravel when it was first announced last month. Biden arrived at about 3:15 p.m. ET, and greeted an entourage … President Joe Biden and former President Donald Trump have each arrived in Atlanta for this evening’',\n",
       " 'These Debates Might Actually Matter The first 2024 presidential debate between President Joe Biden and former President Donald Trump is happening, and this time around, these debates might actually matter. TOPSHOT - US President Donald Trump (R) Democratic Presidential candidate, former US Vice President ',\n",
       " 'Does the US still need presidential debates? There is much to be criticised about the debates, but voters can still learn a lot from formal Trump-Biden face-offs. President Joe Biden and former President Donald Trump recently came to a surprising, though possibly',\n",
       " 'MTG Throws Serious Temper Tantrum When Asked About Election Georgia Representative Marjorie Taylor Greene will do practically anything to avoid saying she’d accept the 2024 election results no matter the outcome—even going so far as to throw a temper tantrum live on air.\\r\\nDuring an interview with the Australian Broadc… Even before the gag order was lifted, Trump attempted to skirt it in different ways. He had his poli',\n",
       " 'Fact-checking CNN’s presidential debate: How accurate were Joe Biden and Donald Trump? President Joe Biden and former President Donald Trump, the presumptive presidential nominees, shared a debate stage June 27 for the first time since 2020, in a feisty confrontation that —\\xa0 […]\\nThe post Fact-checking CNN’s presidential debate: How accurate wer… President Joe Biden and former President Donald Trump, the presumptive presidential nominees, shared',\n",
       " \"Biden-Trump Debate Won't Change Opinion For Many On Social Media Regardless of what either man says on stage, it won't likely change the opinion of many of their supporters and detractors on social media. Former President Donald Trump and President Joe Biden in 2020 (AP Photo/Patrick Semansky)\\r\\nCopyright\"]"
      ]
     },
     "execution_count": 6,
     "metadata": {},
     "output_type": "execute_result"
    }
   ],
   "execution_count": 6
  },
  {
   "metadata": {
    "ExecuteTime": {
     "end_time": "2024-06-29T09:07:18.324796Z",
     "start_time": "2024-06-29T09:07:13.753564Z"
    }
   },
   "cell_type": "code",
   "source": [
    "batch_size = 50\n",
    "all_article_embeddings = []\n",
    "\n",
    "for i in range(0, len(articles_list), batch_size):\n",
    "    batch = articles_list[i:i + batch_size]\n",
    "    batch_embeddings = embeddings(batch)\n",
    "    all_article_embeddings.extend(batch_embeddings)\n",
    "\n",
    "print(len(all_article_embeddings))\n",
    "\n",
    "cosine_similarities = []\n",
    "for article_embedding in all_article_embeddings:\n",
    "    cosine_similarities.append(dot(hypothetical_answer_embedding, article_embedding))\n",
    "\n",
    "cosine_similarities[0:10]"
   ],
   "outputs": [
    {
     "name": "stdout",
     "output_type": "stream",
     "text": [
      "263\n"
     ]
    },
    {
     "data": {
      "text/plain": [
       "[0.5579376441846292,\n",
       " 0.39300627131951305,\n",
       " 0.4572582644647345,\n",
       " 0.4668488777936274,\n",
       " 0.5289598787154811,\n",
       " 0.48261735464648114,\n",
       " 0.521426815078863,\n",
       " 0.36705116044372865,\n",
       " 0.46313505343410993,\n",
       " 0.4557141810237793]"
      ]
     },
     "execution_count": 7,
     "metadata": {},
     "output_type": "execute_result"
    }
   ],
   "execution_count": 7
  },
  {
   "attachments": {},
   "cell_type": "markdown",
   "metadata": {},
   "source": [
    "## 5. Using the similarity scores to re-rank the results\n",
    "\n",
    "最后，我们使用这些相似度分数对结果进行排序和筛选。\n",
    "\n",
    "Finally, we use these similarity scores to sort and filter the results.\n"
   ]
  },
  {
   "cell_type": "code",
   "metadata": {
    "ExecuteTime": {
     "end_time": "2024-06-29T09:07:18.328817Z",
     "start_time": "2024-06-29T09:07:18.325687Z"
    }
   },
   "source": [
    "scored_articles = zip(articles, cosine_similarities)\n",
    "\n",
    "# Sort articles by cosine similarity\n",
    "sorted_articles = sorted(scored_articles, key=lambda x: x[1], reverse=True)\n",
    "\n",
    "# Print top 5 articles\n",
    "print(\"Top 5 articles:\", \"\\n\")\n",
    "\n",
    "for article, score in sorted_articles[0:5]:\n",
    "    print(\"Title:\", article[\"title\"])\n",
    "    print(\"Description:\", article[\"description\"])\n",
    "    print(\"Content:\", article[\"content\"][0:100] + \"...\")\n",
    "    print(\"Score:\", score)\n",
    "    print()\n"
   ],
   "outputs": [
    {
     "name": "stdout",
     "output_type": "stream",
     "text": [
      "Top 5 articles: \n",
      "\n",
      "Title: How have debate topics changed? What to expect tonight.\n",
      "Description: Will the topics in Thursday’s presidential debate cover what voters care about most?\n",
      "Content: Among the top issues for uncommitted and sporadic voters from battleground states who will likely pi...\n",
      "Score: 0.6052164837899081\n",
      "\n",
      "Title: 2024 presidential debate analysis, discussion\n",
      "Description: President Joe Biden and his rival Donald Trump squared off as the candidates attempt to lure currently undecided voters in the first general election debate on Thursday, June 27.\n",
      "Content: MILWAUKEE - The first general election debate of the 2024 season kicked off on Thursday, June 27.\r\n",
      "U...\n",
      "Score: 0.596790424103\n",
      "\n",
      "Title: Trump Should Never Have Had This Platform\n",
      "Description: The debate was a travesty—because its whole premise was to treat a failed coup leader as a legitimate candidate for the presidency again.\n",
      "Content: The first question about January 6 was asked at Minute 41.Donald Trump replied with a barrage of cra...\n",
      "Score: 0.580239703663039\n",
      "\n",
      "Title: Early debate was a huge gamble Biden may regret\n",
      "Description: This was an extraordinary evening.\n",
      "Content: This was an extraordinary evening.\r\n",
      "Joe Biden's debate performance was among the worst by any presid...\n",
      "Score: 0.5762258594714701\n",
      "\n",
      "Title: Here’s who will win the first presidential debate\n",
      "Description: Every pundit across these United States is fielding the same question right now: Who is going to win Thursday night’s debate?\n",
      "Content: Every pundit across these United States is fielding the same question right now: Who is going to win...\n",
      "Score: 0.5756502877591247\n",
      "\n"
     ]
    }
   ],
   "execution_count": 8
  },
  {
   "attachments": {},
   "cell_type": "markdown",
   "metadata": {},
   "source": [
    "## 6. Get the answer\n",
    "\n",
    "最后，我们给出最顶端的搜索结果，模型生成用户问题的答案，包括引用和链接。\n",
    "\n",
    "Finally, given the top search results, the model generates an answer to the user's question, including citations and links.\n"
   ]
  },
  {
   "cell_type": "code",
   "metadata": {
    "ExecuteTime": {
     "end_time": "2024-06-29T09:07:28.806904Z",
     "start_time": "2024-06-29T09:07:18.329876Z"
    }
   },
   "source": [
    "formatted_top_results = [\n",
    "    {\n",
    "        \"title\": article[\"title\"],\n",
    "        \"description\": article[\"description\"],\n",
    "        \"url\": article[\"url\"],\n",
    "    }\n",
    "    for article, _score in sorted_articles[0:5]\n",
    "]\n",
    "\n",
    "ANSWER_INPUT = f\"\"\"\n",
    "根据给定的搜索结果生成用户问题的答案。\n",
    "TOP_RESULTS：{formatted_top_results}\n",
    "USER_QUESTION：{USER_QUESTION}\n",
    "在答案中包含尽可能多的信息。将相关搜索结果网址引用为 markdown 链接。用中文输出答案。\n",
    "\"\"\"\n",
    "\n",
    "completion = client.chat.completions.create(\n",
    "    model=\"glm-4-0520\",\n",
    "    messages=[{\"role\": \"user\", \"content\": ANSWER_INPUT}],\n",
    "    temperature=0.5,\n",
    "    stream=False,\n",
    ")\n",
    "completion.choices[0].message.content"
   ],
   "outputs": [
    {
     "data": {
      "text/plain": [
       "'今天美国总统大选的辩论情况如下：总统乔·拜登和其对手唐纳德·特朗普在6月27日的首次总统选举辩论中交锋，双方试图吸引目前尚未决定投票给谁选民。辩论的议题可能包括经济、堕胎、民主和战争等，这些议题是否涵盖了选民最关心的问题仍存在争议。\\n\\n- 关于辩论议题的变化以及今晚辩论的预期，请参考：[How have debate topics changed? What to expect tonight.](https://www.washingtonpost.com/politics/2024/06/27/debate-topics-economy-abortion-democracy-war/)\\n- 对于2024年总统辩论的分析和讨论，请参考：[2024 presidential debate analysis, discussion](https://www.fox6now.com/news/2024-presidential-debate-analysis)\\n- 关于特朗普不应该拥有这个辩论平台的观点，请参考：[Trump Should Never Have Had This Platform](https://www.theatlantic.com/politics/archive/2024/06/debate-trump-platform-january-6/678818/?utm_source=feed)\\n- 关于拜登提前进行辩论是否是一个巨大的赌博，请参考：[Early debate was a huge gamble Biden may regret](https://news.sky.com/story/us-presidential-election-early-debate-was-a-huge-gamble-biden-may-regret-13160215)\\n- 关于谁将赢得首次总统辩论的预测，请参考：[Here’s who will win the first presidential debate](https://nypost.com/2024/06/26/us-news/heres-who-will-win-the-first-presidential-debate/)'"
      ]
     },
     "execution_count": 9,
     "metadata": {},
     "output_type": "execute_result"
    }
   ],
   "execution_count": 9
  }
 ],
 "metadata": {
  "kernelspec": {
   "display_name": "Python 3",
   "language": "python",
   "name": "python3"
  },
  "language_info": {
   "codemirror_mode": {
    "name": "ipython",
    "version": 3
   },
   "file_extension": ".py",
   "mimetype": "text/x-python",
   "name": "python",
   "nbconvert_exporter": "python",
   "pygments_lexer": "ipython3",
   "version": "3.11.0"
  },
  "orig_nbformat": 4
 },
 "nbformat": 4,
 "nbformat_minor": 2
}
